{
 "cells": [
  {
   "cell_type": "code",
   "execution_count": 1,
   "id": "1e88d6d7",
   "metadata": {},
   "outputs": [],
   "source": [
    "import numpy as np\n",
    "import pandas as pd"
   ]
  },
  {
   "cell_type": "code",
   "execution_count": 12,
   "id": "b5f15d74",
   "metadata": {},
   "outputs": [
    {
     "name": "stdout",
     "output_type": "stream",
     "text": [
      "Length of the Longest contiguous subsequence is 3\n"
     ]
    }
   ],
   "source": [
    "#List Data Types\n",
    "#Q1.List Manipulation\n",
    "#Given a list of integers, write a function to find the longest subsequence of consecutive integers in the list and return that subsequence.\n",
    "\n",
    "def findLongestConseqSubseq(arr, n):\n",
    "    ans = 0\n",
    "    count = 0\n",
    "    \n",
    "    arr.sort()  #sorting array\n",
    "    v = []\n",
    "    v.append(arr[0])\n",
    "    \n",
    "    for i in range(1, n):  #insert repeated element one time in vector\n",
    "        if (arr[i] != arr[i - 1]):\n",
    "            v.append(arr[i])\n",
    "            \n",
    "    for i in range(len(v)):\n",
    "        \n",
    "        if (i > 0 and v[i] == v[i - 1] + 1):\n",
    "            count += 1\n",
    "        else:\n",
    "            count = 1\n",
    "            \n",
    "        ans = max(ans, count)\n",
    " \n",
    "    return ans\n",
    "\n",
    "arr = [1, 2, 2, 3]\n",
    "n   = len(arr)\n",
    " \n",
    "print(\"Length of the Longest contiguous subsequence is\",\n",
    "      findLongestConseqSubseq(arr, n))\n",
    "    \n"
   ]
  },
  {
   "cell_type": "code",
   "execution_count": 13,
   "id": "f8c0ed60",
   "metadata": {},
   "outputs": [
    {
     "name": "stdout",
     "output_type": "stream",
     "text": [
      "[4, 16, 36, 64, 100, 144, 196, 256, 324, 400]\n"
     ]
    }
   ],
   "source": [
    "#Question 2: List Comprehensions2. Create a list comprehension that generates a list of squares of even numbers from 1 to 20.\n",
    "squares_of_evens = [x ** 2 for x in range(2, 21, 2)]\n",
    "print(squares_of_evens)\n",
    "\n"
   ]
  },
  {
   "cell_type": "code",
   "execution_count": null,
   "id": "4bfb2985",
   "metadata": {},
   "outputs": [],
   "source": [
    "#Question 3: List Sorting and Lambda Functions\n",
    "#3. Sort a list of dictionaries based on a nested key. Given a list of dictionaries, each containing information about a person (with keys 'name', 'age', 'score'), sort the list based on the 'score' in descending order. If scores are equal, sort by 'age' in ascending order.\n"
   ]
  },
  {
   "cell_type": "code",
   "execution_count": 15,
   "id": "51a340fe",
   "metadata": {},
   "outputs": [
    {
     "name": "stdout",
     "output_type": "stream",
     "text": [
      "[1, 2, 3, 4, 5, 6, 7, 8, 9]\n"
     ]
    }
   ],
   "source": [
    "#Question 4: List of Lists Manipulation\n",
    "#4. Write a function to flatten a list of lists into a single list. For example, [[1, 2, 3], [4, 5], [6, 7, 8]] should become [1, 2, 3, 4, 5, 6, 7, 8].\n",
    "def flatten_list(nested_list):\n",
    "    flattened = []\n",
    "    for element in nested_list:\n",
    "        if isinstance(element,list):\n",
    "            flattened.extend(flatten_list(element))\n",
    "        else:\n",
    "            flattened.append(element)\n",
    "    return flattened\n",
    "\n",
    "nested_list=[[1,2,3],[4,5],[6,7,8,9]]\n",
    "flattened_list = flatten_list(nested_list)\n",
    "print(flattened_list)"
   ]
  },
  {
   "cell_type": "code",
   "execution_count": null,
   "id": "ac907dee",
   "metadata": {},
   "outputs": [],
   "source": []
  }
 ],
 "metadata": {
  "kernelspec": {
   "display_name": "Python 3 (ipykernel)",
   "language": "python",
   "name": "python3"
  },
  "language_info": {
   "codemirror_mode": {
    "name": "ipython",
    "version": 3
   },
   "file_extension": ".py",
   "mimetype": "text/x-python",
   "name": "python",
   "nbconvert_exporter": "python",
   "pygments_lexer": "ipython3",
   "version": "3.11.3"
  }
 },
 "nbformat": 4,
 "nbformat_minor": 5
}
