{
 "cells": [
  {
   "cell_type": "code",
   "execution_count": 5,
   "id": "3d63358b",
   "metadata": {},
   "outputs": [],
   "source": [
    "import numpy as np\n",
    "import pandas as pd\n",
    "from matplotlib import pyplot as plt\n",
    "import warnings\n",
    "warnings.filterwarnings(\"ignore\")\n",
    "from sklearn.datasets import make_blobs"
   ]
  },
  {
   "cell_type": "code",
   "execution_count": 6,
   "id": "448f0512",
   "metadata": {},
   "outputs": [],
   "source": [
    "data = make_blobs(n_samples=100, n_features=2, centers=[[2,3], [5,6]])"
   ]
  },
  {
   "cell_type": "code",
   "execution_count": 7,
   "id": "bc7269fc",
   "metadata": {},
   "outputs": [
    {
     "data": {
      "text/plain": [
       "(array([[5.01588785, 5.60612682],\n",
       "        [1.89916111, 1.0784455 ],\n",
       "        [2.24364483, 2.48242704],\n",
       "        [1.55808455, 3.86666703],\n",
       "        [3.12100044, 8.107441  ],\n",
       "        [3.0590142 , 0.89877757],\n",
       "        [1.27773658, 3.00149926],\n",
       "        [1.80336944, 2.8610711 ],\n",
       "        [5.49740803, 7.63364924],\n",
       "        [2.75605226, 6.7130072 ],\n",
       "        [2.88271604, 5.31627571],\n",
       "        [1.69227499, 1.61258025],\n",
       "        [4.33471403, 6.94624507],\n",
       "        [0.78002765, 2.39187393],\n",
       "        [4.07012012, 3.21272409],\n",
       "        [7.20251787, 5.83695469],\n",
       "        [5.1260298 , 5.89399931],\n",
       "        [4.76679655, 5.36438182],\n",
       "        [4.41698907, 6.98689643],\n",
       "        [5.5288451 , 5.95619249],\n",
       "        [4.31086011, 6.96262509],\n",
       "        [5.33967022, 6.48396389],\n",
       "        [4.07840323, 5.27355955],\n",
       "        [2.55892883, 2.60910265],\n",
       "        [2.66890588, 0.43116631],\n",
       "        [4.05180412, 3.48161857],\n",
       "        [5.68789802, 5.06367391],\n",
       "        [5.02084716, 3.44629336],\n",
       "        [5.54916298, 8.2519336 ],\n",
       "        [1.68234944, 2.50138847],\n",
       "        [2.28297065, 3.30320675],\n",
       "        [3.37811446, 5.82687308],\n",
       "        [6.7883072 , 6.09942007],\n",
       "        [6.92202765, 6.25201434],\n",
       "        [3.40014459, 3.53942772],\n",
       "        [3.05439691, 3.37246305],\n",
       "        [6.40389411, 6.12376125],\n",
       "        [4.66760564, 4.44415041],\n",
       "        [1.94373792, 4.66854327],\n",
       "        [3.73520876, 4.08314615],\n",
       "        [2.03935665, 2.88857139],\n",
       "        [3.30205009, 2.9151388 ],\n",
       "        [3.77166372, 7.53826994],\n",
       "        [0.86467661, 1.67974649],\n",
       "        [3.41139215, 4.12275765],\n",
       "        [0.00974443, 2.30126692],\n",
       "        [4.28226903, 6.91426143],\n",
       "        [2.06454908, 4.64183234],\n",
       "        [1.58864969, 3.2057981 ],\n",
       "        [1.22616782, 4.27615966],\n",
       "        [4.49617591, 5.4612189 ],\n",
       "        [1.23166633, 2.38590532],\n",
       "        [1.44193359, 3.02495294],\n",
       "        [3.82838344, 6.28296009],\n",
       "        [4.84680842, 4.91927838],\n",
       "        [2.14212705, 2.24792148],\n",
       "        [2.45355768, 4.17527843],\n",
       "        [0.85310565, 3.55329869],\n",
       "        [2.70794593, 3.73708095],\n",
       "        [1.41684712, 2.43435959],\n",
       "        [6.52674995, 6.47075236],\n",
       "        [2.53821184, 3.85319629],\n",
       "        [3.7496344 , 7.50308962],\n",
       "        [3.44992758, 1.81666124],\n",
       "        [7.59132107, 4.26741666],\n",
       "        [6.58617392, 5.04089841],\n",
       "        [4.02400466, 4.83931335],\n",
       "        [1.41472653, 4.47388668],\n",
       "        [4.69188141, 7.33257156],\n",
       "        [4.6442079 , 6.09381039],\n",
       "        [1.15323636, 2.85179646],\n",
       "        [7.11000458, 3.86271933],\n",
       "        [2.87654512, 3.57739475],\n",
       "        [4.68541591, 6.70746573],\n",
       "        [3.82567432, 3.01426205],\n",
       "        [1.77283559, 1.60038125],\n",
       "        [5.30488086, 6.28952904],\n",
       "        [4.46375552, 7.18290242],\n",
       "        [5.15883165, 5.79184652],\n",
       "        [4.03260392, 3.04002435],\n",
       "        [1.05597679, 1.85211896],\n",
       "        [3.93244706, 3.73965982],\n",
       "        [5.75753118, 5.9691365 ],\n",
       "        [1.43248892, 3.39865288],\n",
       "        [4.67562476, 5.30793824],\n",
       "        [1.1273987 , 3.67352677],\n",
       "        [3.13432962, 5.0020249 ],\n",
       "        [2.29297873, 3.14969108],\n",
       "        [6.00358607, 5.46585952],\n",
       "        [1.71060614, 0.91005198],\n",
       "        [3.71429814, 5.70282802],\n",
       "        [4.3336692 , 5.49555594],\n",
       "        [2.56612772, 5.98306637],\n",
       "        [8.02498475, 6.42595936],\n",
       "        [2.10352659, 2.57637878],\n",
       "        [2.64790836, 2.688013  ],\n",
       "        [2.65613453, 2.1319746 ],\n",
       "        [3.8173052 , 0.30633765],\n",
       "        [5.46906897, 5.95482665],\n",
       "        [5.28959412, 5.43849917]]),\n",
       " array([1, 0, 0, 0, 1, 0, 0, 0, 1, 1, 1, 0, 1, 0, 0, 1, 1, 1, 1, 1, 1, 1,\n",
       "        1, 0, 0, 1, 1, 1, 1, 0, 0, 1, 1, 1, 0, 0, 1, 1, 0, 1, 0, 0, 1, 0,\n",
       "        0, 0, 1, 0, 0, 0, 1, 0, 0, 1, 1, 0, 0, 0, 0, 0, 1, 0, 1, 0, 1, 1,\n",
       "        1, 0, 1, 1, 0, 1, 0, 1, 0, 0, 1, 1, 1, 0, 0, 0, 1, 0, 1, 0, 1, 0,\n",
       "        1, 0, 1, 1, 0, 1, 0, 0, 0, 0, 1, 1]))"
      ]
     },
     "execution_count": 7,
     "metadata": {},
     "output_type": "execute_result"
    }
   ],
   "source": [
    "data"
   ]
  },
  {
   "cell_type": "code",
   "execution_count": 8,
   "id": "b635420d",
   "metadata": {},
   "outputs": [
    {
     "data": {
      "text/html": [
       "<div>\n",
       "<style scoped>\n",
       "    .dataframe tbody tr th:only-of-type {\n",
       "        vertical-align: middle;\n",
       "    }\n",
       "\n",
       "    .dataframe tbody tr th {\n",
       "        vertical-align: top;\n",
       "    }\n",
       "\n",
       "    .dataframe thead th {\n",
       "        text-align: right;\n",
       "    }\n",
       "</style>\n",
       "<table border=\"1\" class=\"dataframe\">\n",
       "  <thead>\n",
       "    <tr style=\"text-align: right;\">\n",
       "      <th></th>\n",
       "      <th>Col_1</th>\n",
       "      <th>Col_2</th>\n",
       "      <th>Target</th>\n",
       "    </tr>\n",
       "  </thead>\n",
       "  <tbody>\n",
       "    <tr>\n",
       "      <th>0</th>\n",
       "      <td>5.015888</td>\n",
       "      <td>5.606127</td>\n",
       "      <td>1</td>\n",
       "    </tr>\n",
       "    <tr>\n",
       "      <th>1</th>\n",
       "      <td>1.899161</td>\n",
       "      <td>1.078446</td>\n",
       "      <td>0</td>\n",
       "    </tr>\n",
       "    <tr>\n",
       "      <th>2</th>\n",
       "      <td>2.243645</td>\n",
       "      <td>2.482427</td>\n",
       "      <td>0</td>\n",
       "    </tr>\n",
       "    <tr>\n",
       "      <th>3</th>\n",
       "      <td>1.558085</td>\n",
       "      <td>3.866667</td>\n",
       "      <td>0</td>\n",
       "    </tr>\n",
       "    <tr>\n",
       "      <th>4</th>\n",
       "      <td>3.121000</td>\n",
       "      <td>8.107441</td>\n",
       "      <td>1</td>\n",
       "    </tr>\n",
       "  </tbody>\n",
       "</table>\n",
       "</div>"
      ],
      "text/plain": [
       "      Col_1     Col_2  Target\n",
       "0  5.015888  5.606127       1\n",
       "1  1.899161  1.078446       0\n",
       "2  2.243645  2.482427       0\n",
       "3  1.558085  3.866667       0\n",
       "4  3.121000  8.107441       1"
      ]
     },
     "execution_count": 8,
     "metadata": {},
     "output_type": "execute_result"
    }
   ],
   "source": [
    "df = pd.DataFrame(data[0], columns=[\"Col_1\", \"Col_2\"])\n",
    "df[\"Target\"] = data[1]\n",
    "df.head()"
   ]
  },
  {
   "cell_type": "code",
   "execution_count": 9,
   "id": "a088e2dd",
   "metadata": {},
   "outputs": [],
   "source": [
    "X = data[0]\n",
    "y = data[1]"
   ]
  },
  {
   "cell_type": "code",
   "execution_count": 10,
   "id": "2a97989c",
   "metadata": {},
   "outputs": [
    {
     "data": {
      "text/plain": [
       "array([[5.01588785, 5.60612682],\n",
       "       [1.89916111, 1.0784455 ],\n",
       "       [2.24364483, 2.48242704],\n",
       "       [1.55808455, 3.86666703],\n",
       "       [3.12100044, 8.107441  ],\n",
       "       [3.0590142 , 0.89877757],\n",
       "       [1.27773658, 3.00149926],\n",
       "       [1.80336944, 2.8610711 ],\n",
       "       [5.49740803, 7.63364924],\n",
       "       [2.75605226, 6.7130072 ],\n",
       "       [2.88271604, 5.31627571],\n",
       "       [1.69227499, 1.61258025],\n",
       "       [4.33471403, 6.94624507],\n",
       "       [0.78002765, 2.39187393],\n",
       "       [4.07012012, 3.21272409],\n",
       "       [7.20251787, 5.83695469],\n",
       "       [5.1260298 , 5.89399931],\n",
       "       [4.76679655, 5.36438182],\n",
       "       [4.41698907, 6.98689643],\n",
       "       [5.5288451 , 5.95619249],\n",
       "       [4.31086011, 6.96262509],\n",
       "       [5.33967022, 6.48396389],\n",
       "       [4.07840323, 5.27355955],\n",
       "       [2.55892883, 2.60910265],\n",
       "       [2.66890588, 0.43116631],\n",
       "       [4.05180412, 3.48161857],\n",
       "       [5.68789802, 5.06367391],\n",
       "       [5.02084716, 3.44629336],\n",
       "       [5.54916298, 8.2519336 ],\n",
       "       [1.68234944, 2.50138847],\n",
       "       [2.28297065, 3.30320675],\n",
       "       [3.37811446, 5.82687308],\n",
       "       [6.7883072 , 6.09942007],\n",
       "       [6.92202765, 6.25201434],\n",
       "       [3.40014459, 3.53942772],\n",
       "       [3.05439691, 3.37246305],\n",
       "       [6.40389411, 6.12376125],\n",
       "       [4.66760564, 4.44415041],\n",
       "       [1.94373792, 4.66854327],\n",
       "       [3.73520876, 4.08314615],\n",
       "       [2.03935665, 2.88857139],\n",
       "       [3.30205009, 2.9151388 ],\n",
       "       [3.77166372, 7.53826994],\n",
       "       [0.86467661, 1.67974649],\n",
       "       [3.41139215, 4.12275765],\n",
       "       [0.00974443, 2.30126692],\n",
       "       [4.28226903, 6.91426143],\n",
       "       [2.06454908, 4.64183234],\n",
       "       [1.58864969, 3.2057981 ],\n",
       "       [1.22616782, 4.27615966],\n",
       "       [4.49617591, 5.4612189 ],\n",
       "       [1.23166633, 2.38590532],\n",
       "       [1.44193359, 3.02495294],\n",
       "       [3.82838344, 6.28296009],\n",
       "       [4.84680842, 4.91927838],\n",
       "       [2.14212705, 2.24792148],\n",
       "       [2.45355768, 4.17527843],\n",
       "       [0.85310565, 3.55329869],\n",
       "       [2.70794593, 3.73708095],\n",
       "       [1.41684712, 2.43435959],\n",
       "       [6.52674995, 6.47075236],\n",
       "       [2.53821184, 3.85319629],\n",
       "       [3.7496344 , 7.50308962],\n",
       "       [3.44992758, 1.81666124],\n",
       "       [7.59132107, 4.26741666],\n",
       "       [6.58617392, 5.04089841],\n",
       "       [4.02400466, 4.83931335],\n",
       "       [1.41472653, 4.47388668],\n",
       "       [4.69188141, 7.33257156],\n",
       "       [4.6442079 , 6.09381039],\n",
       "       [1.15323636, 2.85179646],\n",
       "       [7.11000458, 3.86271933],\n",
       "       [2.87654512, 3.57739475],\n",
       "       [4.68541591, 6.70746573],\n",
       "       [3.82567432, 3.01426205],\n",
       "       [1.77283559, 1.60038125],\n",
       "       [5.30488086, 6.28952904],\n",
       "       [4.46375552, 7.18290242],\n",
       "       [5.15883165, 5.79184652],\n",
       "       [4.03260392, 3.04002435],\n",
       "       [1.05597679, 1.85211896],\n",
       "       [3.93244706, 3.73965982],\n",
       "       [5.75753118, 5.9691365 ],\n",
       "       [1.43248892, 3.39865288],\n",
       "       [4.67562476, 5.30793824],\n",
       "       [1.1273987 , 3.67352677],\n",
       "       [3.13432962, 5.0020249 ],\n",
       "       [2.29297873, 3.14969108],\n",
       "       [6.00358607, 5.46585952],\n",
       "       [1.71060614, 0.91005198],\n",
       "       [3.71429814, 5.70282802],\n",
       "       [4.3336692 , 5.49555594],\n",
       "       [2.56612772, 5.98306637],\n",
       "       [8.02498475, 6.42595936],\n",
       "       [2.10352659, 2.57637878],\n",
       "       [2.64790836, 2.688013  ],\n",
       "       [2.65613453, 2.1319746 ],\n",
       "       [3.8173052 , 0.30633765],\n",
       "       [5.46906897, 5.95482665],\n",
       "       [5.28959412, 5.43849917]])"
      ]
     },
     "execution_count": 10,
     "metadata": {},
     "output_type": "execute_result"
    }
   ],
   "source": [
    "X"
   ]
  },
  {
   "cell_type": "code",
   "execution_count": 11,
   "id": "b2fa0818",
   "metadata": {},
   "outputs": [
    {
     "data": {
      "image/png": "[encoded data removed]",
      "text/plain": [
       "<Figure size 640x480 with 1 Axes>"
      ]
     },
     "metadata": {},
     "output_type": "display_data"
    }
   ],
   "source": [
    "%matplotlib inline\n",
    "# plt.scatter(X[:,0], X[:,1])\n",
    "plt.scatter(X[y==0,0], X[y==0,1], label=\"y=0\")\n",
    "plt.scatter(X[y==1,0], X[y==1,1], label=\"y=1\")\n",
    "plt.legend()\n",
    "plt.show()"
   ]
  },
  {
   "cell_type": "code",
   "execution_count": 12,
   "id": "3b0fac82",
   "metadata": {},
   "outputs": [],
   "source": [
    "from sklearn.cluster import KMeans"
   ]
  },
  {
   "cell_type": "code",
   "execution_count": 13,
   "id": "ff6a657a",
   "metadata": {},
   "outputs": [],
   "source": [
    "model = KMeans(n_clusters=2)"
   ]
  },
  {
   "cell_type": "code",
   "execution_count": 14,
   "id": "79cf45c5",
   "metadata": {},
   "outputs": [],
   "source": [
    "y_pred = model.fit_predict(X)"
   ]
  },
  {
   "cell_type": "code",
   "execution_count": 15,
   "id": "45ff2973",
   "metadata": {},
   "outputs": [],
   "source": [
    "y_pred = model.fit_predict(X)"
   ]
  },
  {
   "cell_type": "code",
   "execution_count": 16,
   "id": "60c2f40e",
   "metadata": {},
   "outputs": [],
   "source": [
    "from sklearn.metrics import accuracy_score"
   ]
  },
  {
   "cell_type": "code",
   "execution_count": 17,
   "id": "9dcd059c",
   "metadata": {},
   "outputs": [
    {
     "data": {
      "text/plain": [
       "0.03"
      ]
     },
     "execution_count": 17,
     "metadata": {},
     "output_type": "execute_result"
    }
   ],
   "source": [
    "accuracy_score(y, y_pred)"
   ]
  },
  {
   "cell_type": "code",
   "execution_count": 18,
   "id": "bd340364",
   "metadata": {},
   "outputs": [],
   "source": [
    "from sklearn.datasets import load_iris"
   ]
  },
  {
   "cell_type": "code",
   "execution_count": 19,
   "id": "1b343326",
   "metadata": {},
   "outputs": [],
   "source": [
    "iris = load_iris()"
   ]
  },
  {
   "cell_type": "code",
   "execution_count": 20,
   "id": "746c0efc",
   "metadata": {},
   "outputs": [],
   "source": [
    "iris_data = iris.data"
   ]
  },
  {
   "cell_type": "code",
   "execution_count": 21,
   "id": "464397ae",
   "metadata": {},
   "outputs": [
    {
     "data": {
      "text/plain": [
       "array([[5.1, 3.5, 1.4, 0.2],\n",
       "       [4.9, 3. , 1.4, 0.2],\n",
       "       [4.7, 3.2, 1.3, 0.2],\n",
       "       [4.6, 3.1, 1.5, 0.2],\n",
       "       [5. , 3.6, 1.4, 0.2],\n",
       "       [5.4, 3.9, 1.7, 0.4],\n",
       "       [4.6, 3.4, 1.4, 0.3],\n",
       "       [5. , 3.4, 1.5, 0.2],\n",
       "       [4.4, 2.9, 1.4, 0.2],\n",
       "       [4.9, 3.1, 1.5, 0.1],\n",
       "       [5.4, 3.7, 1.5, 0.2],\n",
       "       [4.8, 3.4, 1.6, 0.2],\n",
       "       [4.8, 3. , 1.4, 0.1],\n",
       "       [4.3, 3. , 1.1, 0.1],\n",
       "       [5.8, 4. , 1.2, 0.2],\n",
       "       [5.7, 4.4, 1.5, 0.4],\n",
       "       [5.4, 3.9, 1.3, 0.4],\n",
       "       [5.1, 3.5, 1.4, 0.3],\n",
       "       [5.7, 3.8, 1.7, 0.3],\n",
       "       [5.1, 3.8, 1.5, 0.3],\n",
       "       [5.4, 3.4, 1.7, 0.2],\n",
       "       [5.1, 3.7, 1.5, 0.4],\n",
       "       [4.6, 3.6, 1. , 0.2],\n",
       "       [5.1, 3.3, 1.7, 0.5],\n",
       "       [4.8, 3.4, 1.9, 0.2],\n",
       "       [5. , 3. , 1.6, 0.2],\n",
       "       [5. , 3.4, 1.6, 0.4],\n",
       "       [5.2, 3.5, 1.5, 0.2],\n",
       "       [5.2, 3.4, 1.4, 0.2],\n",
       "       [4.7, 3.2, 1.6, 0.2],\n",
       "       [4.8, 3.1, 1.6, 0.2],\n",
       "       [5.4, 3.4, 1.5, 0.4],\n",
       "       [5.2, 4.1, 1.5, 0.1],\n",
       "       [5.5, 4.2, 1.4, 0.2],\n",
       "       [4.9, 3.1, 1.5, 0.2],\n",
       "       [5. , 3.2, 1.2, 0.2],\n",
       "       [5.5, 3.5, 1.3, 0.2],\n",
       "       [4.9, 3.6, 1.4, 0.1],\n",
       "       [4.4, 3. , 1.3, 0.2],\n",
       "       [5.1, 3.4, 1.5, 0.2],\n",
       "       [5. , 3.5, 1.3, 0.3],\n",
       "       [4.5, 2.3, 1.3, 0.3],\n",
       "       [4.4, 3.2, 1.3, 0.2],\n",
       "       [5. , 3.5, 1.6, 0.6],\n",
       "       [5.1, 3.8, 1.9, 0.4],\n",
       "       [4.8, 3. , 1.4, 0.3],\n",
       "       [5.1, 3.8, 1.6, 0.2],\n",
       "       [4.6, 3.2, 1.4, 0.2],\n",
       "       [5.3, 3.7, 1.5, 0.2],\n",
       "       [5. , 3.3, 1.4, 0.2],\n",
       "       [7. , 3.2, 4.7, 1.4],\n",
       "       [6.4, 3.2, 4.5, 1.5],\n",
       "       [6.9, 3.1, 4.9, 1.5],\n",
       "       [5.5, 2.3, 4. , 1.3],\n",
       "       [6.5, 2.8, 4.6, 1.5],\n",
       "       [5.7, 2.8, 4.5, 1.3],\n",
       "       [6.3, 3.3, 4.7, 1.6],\n",
       "       [4.9, 2.4, 3.3, 1. ],\n",
       "       [6.6, 2.9, 4.6, 1.3],\n",
       "       [5.2, 2.7, 3.9, 1.4],\n",
       "       [5. , 2. , 3.5, 1. ],\n",
       "       [5.9, 3. , 4.2, 1.5],\n",
       "       [6. , 2.2, 4. , 1. ],\n",
       "       [6.1, 2.9, 4.7, 1.4],\n",
       "       [5.6, 2.9, 3.6, 1.3],\n",
       "       [6.7, 3.1, 4.4, 1.4],\n",
       "       [5.6, 3. , 4.5, 1.5],\n",
       "       [5.8, 2.7, 4.1, 1. ],\n",
       "       [6.2, 2.2, 4.5, 1.5],\n",
       "       [5.6, 2.5, 3.9, 1.1],\n",
       "       [5.9, 3.2, 4.8, 1.8],\n",
       "       [6.1, 2.8, 4. , 1.3],\n",
       "       [6.3, 2.5, 4.9, 1.5],\n",
       "       [6.1, 2.8, 4.7, 1.2],\n",
       "       [6.4, 2.9, 4.3, 1.3],\n",
       "       [6.6, 3. , 4.4, 1.4],\n",
       "       [6.8, 2.8, 4.8, 1.4],\n",
       "       [6.7, 3. , 5. , 1.7],\n",
       "       [6. , 2.9, 4.5, 1.5],\n",
       "       [5.7, 2.6, 3.5, 1. ],\n",
       "       [5.5, 2.4, 3.8, 1.1],\n",
       "       [5.5, 2.4, 3.7, 1. ],\n",
       "       [5.8, 2.7, 3.9, 1.2],\n",
       "       [6. , 2.7, 5.1, 1.6],\n",
       "       [5.4, 3. , 4.5, 1.5],\n",
       "       [6. , 3.4, 4.5, 1.6],\n",
       "       [6.7, 3.1, 4.7, 1.5],\n",
       "       [6.3, 2.3, 4.4, 1.3],\n",
       "       [5.6, 3. , 4.1, 1.3],\n",
       "       [5.5, 2.5, 4. , 1.3],\n",
       "       [5.5, 2.6, 4.4, 1.2],\n",
       "       [6.1, 3. , 4.6, 1.4],\n",
       "       [5.8, 2.6, 4. , 1.2],\n",
       "       [5. , 2.3, 3.3, 1. ],\n",
       "       [5.6, 2.7, 4.2, 1.3],\n",
       "       [5.7, 3. , 4.2, 1.2],\n",
       "       [5.7, 2.9, 4.2, 1.3],\n",
       "       [6.2, 2.9, 4.3, 1.3],\n",
       "       [5.1, 2.5, 3. , 1.1],\n",
       "       [5.7, 2.8, 4.1, 1.3],\n",
       "       [6.3, 3.3, 6. , 2.5],\n",
       "       [5.8, 2.7, 5.1, 1.9],\n",
       "       [7.1, 3. , 5.9, 2.1],\n",
       "       [6.3, 2.9, 5.6, 1.8],\n",
       "       [6.5, 3. , 5.8, 2.2],\n",
       "       [7.6, 3. , 6.6, 2.1],\n",
       "       [4.9, 2.5, 4.5, 1.7],\n",
       "       [7.3, 2.9, 6.3, 1.8],\n",
       "       [6.7, 2.5, 5.8, 1.8],\n",
       "       [7.2, 3.6, 6.1, 2.5],\n",
       "       [6.5, 3.2, 5.1, 2. ],\n",
       "       [6.4, 2.7, 5.3, 1.9],\n",
       "       [6.8, 3. , 5.5, 2.1],\n",
       "       [5.7, 2.5, 5. , 2. ],\n",
       "       [5.8, 2.8, 5.1, 2.4],\n",
       "       [6.4, 3.2, 5.3, 2.3],\n",
       "       [6.5, 3. , 5.5, 1.8],\n",
       "       [7.7, 3.8, 6.7, 2.2],\n",
       "       [7.7, 2.6, 6.9, 2.3],\n",
       "       [6. , 2.2, 5. , 1.5],\n",
       "       [6.9, 3.2, 5.7, 2.3],\n",
       "       [5.6, 2.8, 4.9, 2. ],\n",
       "       [7.7, 2.8, 6.7, 2. ],\n",
       "       [6.3, 2.7, 4.9, 1.8],\n",
       "       [6.7, 3.3, 5.7, 2.1],\n",
       "       [7.2, 3.2, 6. , 1.8],\n",
       "       [6.2, 2.8, 4.8, 1.8],\n",
       "       [6.1, 3. , 4.9, 1.8],\n",
       "       [6.4, 2.8, 5.6, 2.1],\n",
       "       [7.2, 3. , 5.8, 1.6],\n",
       "       [7.4, 2.8, 6.1, 1.9],\n",
       "       [7.9, 3.8, 6.4, 2. ],\n",
       "       [6.4, 2.8, 5.6, 2.2],\n",
       "       [6.3, 2.8, 5.1, 1.5],\n",
       "       [6.1, 2.6, 5.6, 1.4],\n",
       "       [7.7, 3. , 6.1, 2.3],\n",
       "       [6.3, 3.4, 5.6, 2.4],\n",
       "       [6.4, 3.1, 5.5, 1.8],\n",
       "       [6. , 3. , 4.8, 1.8],\n",
       "       [6.9, 3.1, 5.4, 2.1],\n",
       "       [6.7, 3.1, 5.6, 2.4],\n",
       "       [6.9, 3.1, 5.1, 2.3],\n",
       "       [5.8, 2.7, 5.1, 1.9],\n",
       "       [6.8, 3.2, 5.9, 2.3],\n",
       "       [6.7, 3.3, 5.7, 2.5],\n",
       "       [6.7, 3. , 5.2, 2.3],\n",
       "       [6.3, 2.5, 5. , 1.9],\n",
       "       [6.5, 3. , 5.2, 2. ],\n",
       "       [6.2, 3.4, 5.4, 2.3],\n",
       "       [5.9, 3. , 5.1, 1.8]])"
      ]
     },
     "execution_count": 21,
     "metadata": {},
     "output_type": "execute_result"
    }
   ],
   "source": [
    "iris_data"
   ]
  },
  {
   "cell_type": "code",
   "execution_count": 22,
   "id": "33c6d221",
   "metadata": {},
   "outputs": [
    {
     "data": {
      "text/html": [
       "<div>\n",
       "<style scoped>\n",
       "    .dataframe tbody tr th:only-of-type {\n",
       "        vertical-align: middle;\n",
       "    }\n",
       "\n",
       "    .dataframe tbody tr th {\n",
       "        vertical-align: top;\n",
       "    }\n",
       "\n",
       "    .dataframe thead th {\n",
       "        text-align: right;\n",
       "    }\n",
       "</style>\n",
       "<table border=\"1\" class=\"dataframe\">\n",
       "  <thead>\n",
       "    <tr style=\"text-align: right;\">\n",
       "      <th></th>\n",
       "      <th>petal length (cm)</th>\n",
       "      <th>petal width (cm)</th>\n",
       "    </tr>\n",
       "  </thead>\n",
       "  <tbody>\n",
       "    <tr>\n",
       "      <th>0</th>\n",
       "      <td>1.4</td>\n",
       "      <td>0.2</td>\n",
       "    </tr>\n",
       "    <tr>\n",
       "      <th>1</th>\n",
       "      <td>1.4</td>\n",
       "      <td>0.2</td>\n",
       "    </tr>\n",
       "    <tr>\n",
       "      <th>2</th>\n",
       "      <td>1.3</td>\n",
       "      <td>0.2</td>\n",
       "    </tr>\n",
       "    <tr>\n",
       "      <th>3</th>\n",
       "      <td>1.5</td>\n",
       "      <td>0.2</td>\n",
       "    </tr>\n",
       "    <tr>\n",
       "      <th>4</th>\n",
       "      <td>1.4</td>\n",
       "      <td>0.2</td>\n",
       "    </tr>\n",
       "    <tr>\n",
       "      <th>...</th>\n",
       "      <td>...</td>\n",
       "      <td>...</td>\n",
       "    </tr>\n",
       "    <tr>\n",
       "      <th>145</th>\n",
       "      <td>5.2</td>\n",
       "      <td>2.3</td>\n",
       "    </tr>\n",
       "    <tr>\n",
       "      <th>146</th>\n",
       "      <td>5.0</td>\n",
       "      <td>1.9</td>\n",
       "    </tr>\n",
       "    <tr>\n",
       "      <th>147</th>\n",
       "      <td>5.2</td>\n",
       "      <td>2.0</td>\n",
       "    </tr>\n",
       "    <tr>\n",
       "      <th>148</th>\n",
       "      <td>5.4</td>\n",
       "      <td>2.3</td>\n",
       "    </tr>\n",
       "    <tr>\n",
       "      <th>149</th>\n",
       "      <td>5.1</td>\n",
       "      <td>1.8</td>\n",
       "    </tr>\n",
       "  </tbody>\n",
       "</table>\n",
       "<p>150 rows × 2 columns</p>\n",
       "</div>"
      ],
      "text/plain": [
       "     petal length (cm)  petal width (cm)\n",
       "0                  1.4               0.2\n",
       "1                  1.4               0.2\n",
       "2                  1.3               0.2\n",
       "3                  1.5               0.2\n",
       "4                  1.4               0.2\n",
       "..                 ...               ...\n",
       "145                5.2               2.3\n",
       "146                5.0               1.9\n",
       "147                5.2               2.0\n",
       "148                5.4               2.3\n",
       "149                5.1               1.8\n",
       "\n",
       "[150 rows x 2 columns]"
      ]
     },
     "execution_count": 22,
     "metadata": {},
     "output_type": "execute_result"
    }
   ],
   "source": [
    "df_iris = pd.DataFrame(iris_data[:, 2:], columns=iris.feature_names[2:])\n",
    "df_iris"
   ]
  },
  {
   "cell_type": "code",
   "execution_count": 23,
   "id": "0bc8f237",
   "metadata": {},
   "outputs": [
    {
     "data": {
      "image/png": "[encoded data removed]",
      "text/plain": [
       "<Figure size 640x480 with 1 Axes>"
      ]
     },
     "metadata": {},
     "output_type": "display_data"
    }
   ],
   "source": [
    "%matplotlib inline\n",
    "# plt.scatter(X[:,0], X[:,1])\n",
    "plt.scatter(df_iris[\"petal length (cm)\"][:50], df_iris[\"petal width (cm)\"][:50], label=\"Setosa\")\n",
    "plt.scatter(df_iris[\"petal length (cm)\"][50:100], df_iris[\"petal width (cm)\"][50:100], label=\"Versicolor\")\n",
    "plt.scatter(df_iris[\"petal length (cm)\"][100:], df_iris[\"petal width (cm)\"][100:], label=\"Verginica\")\n",
    "plt.legend()\n",
    "plt.show()"
   ]
  },
  {
   "cell_type": "code",
   "execution_count": 24,
   "id": "90b1f8cf",
   "metadata": {},
   "outputs": [],
   "source": [
    "km = KMeans(n_clusters=3)"
   ]
  },
  {
   "cell_type": "code",
   "execution_count": 25,
   "id": "ca73e95d",
   "metadata": {},
   "outputs": [
    {
     "data": {
      "text/plain": [
       "array([1, 1, 1, 1, 1, 1, 1, 1, 1, 1, 1, 1, 1, 1, 1, 1, 1, 1, 1, 1, 1, 1,\n",
       "       1, 1, 1, 1, 1, 1, 1, 1, 1, 1, 1, 1, 1, 1, 1, 1, 1, 1, 1, 1, 1, 1,\n",
       "       1, 1, 1, 1, 1, 1, 0, 0, 0, 0, 0, 0, 0, 0, 0, 0, 0, 0, 0, 0, 0, 0,\n",
       "       0, 0, 0, 0, 0, 0, 0, 0, 0, 0, 0, 2, 0, 0, 0, 0, 0, 2, 0, 0, 0, 0,\n",
       "       0, 0, 0, 0, 0, 0, 0, 0, 0, 0, 0, 0, 2, 2, 2, 2, 2, 2, 0, 2, 2, 2,\n",
       "       2, 2, 2, 2, 2, 2, 2, 2, 2, 0, 2, 2, 2, 2, 2, 2, 0, 2, 2, 2, 2, 2,\n",
       "       2, 2, 2, 2, 2, 2, 0, 2, 2, 2, 2, 2, 2, 2, 2, 2, 2, 2])"
      ]
     },
     "execution_count": 25,
     "metadata": {},
     "output_type": "execute_result"
    }
   ],
   "source": [
    "km.fit_predict(df_iris)"
   ]
  },
  {
   "cell_type": "code",
   "execution_count": 26,
   "id": "208657f9",
   "metadata": {},
   "outputs": [],
   "source": [
    "cent = km.cluster_centers_"
   ]
  },
  {
   "cell_type": "code",
   "execution_count": 27,
   "id": "4c8befc2",
   "metadata": {},
   "outputs": [
    {
     "data": {
      "image/png": "[encoded data removed]",
      "text/plain": [
       "<Figure size 640x480 with 1 Axes>"
      ]
     },
     "metadata": {},
     "output_type": "display_data"
    }
   ],
   "source": [
    "%matplotlib inline\n",
    "plt.scatter(df_iris[\"petal length (cm)\"][:50], df_iris[\"petal width (cm)\"][:50], label=\"Setosa\")\n",
    "plt.scatter(df_iris[\"petal length (cm)\"][50:100], df_iris[\"petal width (cm)\"][50:100], label=\"Versicolor\")\n",
    "plt.scatter(df_iris[\"petal length (cm)\"][100:], df_iris[\"petal width (cm)\"][100:], label=\"Verginica\")\n",
    "plt.scatter(cent[:,0], cent[:,1], label=\"Centroids\", marker=\"*\", color=\"black\")\n",
    "plt.legend()\n",
    "plt.show()"
   ]
  },
  {
   "cell_type": "code",
   "execution_count": 28,
   "id": "44b39afc",
   "metadata": {},
   "outputs": [],
   "source": [
    "ls = []\n",
    "for i in range(1,11):\n",
    "    km = KMeans(n_clusters=i)\n",
    "    km.fit(df_iris)\n",
    "    ls.append(km.inertia_)"
   ]
  },
  {
   "cell_type": "code",
   "execution_count": 29,
   "id": "05c3508a",
   "metadata": {},
   "outputs": [
    {
     "data": {
      "text/plain": [
       "[550.8953333333334,\n",
       " 86.39021984551397,\n",
       " 31.37135897435897,\n",
       " 19.465989010989013,\n",
       " 13.916908757908757,\n",
       " 11.025145110250373,\n",
       " 9.244804827285602,\n",
       " 7.783111506140916,\n",
       " 6.456494541406306,\n",
       " 5.63561010245793]"
      ]
     },
     "execution_count": 29,
     "metadata": {},
     "output_type": "execute_result"
    }
   ],
   "source": [
    "ls"
   ]
  },
  {
   "cell_type": "code",
   "execution_count": 33,
   "id": "f64cba87",
   "metadata": {},
   "outputs": [
    {
     "data": {
      "image/png": "[encoded data removed]",
      "text/plain": [
       "<Figure size 500x300 with 1 Axes>"
      ]
     },
     "metadata": {},
     "output_type": "display_data"
    }
   ],
   "source": [
    "plt.figure(figsize=(5,3))\n",
    "plt.xlabel(\"Values of K\")\n",
    "plt.ylabel(\"Errors\")\n",
    "plt.plot(range(1,11), ls, \"r-*\")\n",
    "plt.show()"
   ]
  },
  {
   "cell_type": "code",
   "execution_count": 34,
   "id": "4c7b8c5c",
   "metadata": {},
   "outputs": [],
   "source": [
    "from sklearn.preprocessing import StandardScaler"
   ]
  },
  {
   "cell_type": "code",
   "execution_count": 35,
   "id": "3a3344bd",
   "metadata": {},
   "outputs": [],
   "source": [
    "scalar = StandardScaler()"
   ]
  },
  {
   "cell_type": "code",
   "execution_count": 36,
   "id": "0a75742c",
   "metadata": {},
   "outputs": [],
   "source": [
    "a = scalar.fit(df_iris)\n",
    "new_df = a.transform(df_iris)"
   ]
  },
  {
   "cell_type": "code",
   "execution_count": 37,
   "id": "921590e0",
   "metadata": {},
   "outputs": [
    {
     "data": {
      "text/plain": [
       "array([[-1.34022653e+00, -1.31544430e+00],\n",
       "       [-1.34022653e+00, -1.31544430e+00],\n",
       "       [-1.39706395e+00, -1.31544430e+00],\n",
       "       [-1.28338910e+00, -1.31544430e+00],\n",
       "       [-1.34022653e+00, -1.31544430e+00],\n",
       "       [-1.16971425e+00, -1.05217993e+00],\n",
       "       [-1.34022653e+00, -1.18381211e+00],\n",
       "       [-1.28338910e+00, -1.31544430e+00],\n",
       "       [-1.34022653e+00, -1.31544430e+00],\n",
       "       [-1.28338910e+00, -1.44707648e+00],\n",
       "       [-1.28338910e+00, -1.31544430e+00],\n",
       "       [-1.22655167e+00, -1.31544430e+00],\n",
       "       [-1.34022653e+00, -1.44707648e+00],\n",
       "       [-1.51073881e+00, -1.44707648e+00],\n",
       "       [-1.45390138e+00, -1.31544430e+00],\n",
       "       [-1.28338910e+00, -1.05217993e+00],\n",
       "       [-1.39706395e+00, -1.05217993e+00],\n",
       "       [-1.34022653e+00, -1.18381211e+00],\n",
       "       [-1.16971425e+00, -1.18381211e+00],\n",
       "       [-1.28338910e+00, -1.18381211e+00],\n",
       "       [-1.16971425e+00, -1.31544430e+00],\n",
       "       [-1.28338910e+00, -1.05217993e+00],\n",
       "       [-1.56757623e+00, -1.31544430e+00],\n",
       "       [-1.16971425e+00, -9.20547742e-01],\n",
       "       [-1.05603939e+00, -1.31544430e+00],\n",
       "       [-1.22655167e+00, -1.31544430e+00],\n",
       "       [-1.22655167e+00, -1.05217993e+00],\n",
       "       [-1.28338910e+00, -1.31544430e+00],\n",
       "       [-1.34022653e+00, -1.31544430e+00],\n",
       "       [-1.22655167e+00, -1.31544430e+00],\n",
       "       [-1.22655167e+00, -1.31544430e+00],\n",
       "       [-1.28338910e+00, -1.05217993e+00],\n",
       "       [-1.28338910e+00, -1.44707648e+00],\n",
       "       [-1.34022653e+00, -1.31544430e+00],\n",
       "       [-1.28338910e+00, -1.31544430e+00],\n",
       "       [-1.45390138e+00, -1.31544430e+00],\n",
       "       [-1.39706395e+00, -1.31544430e+00],\n",
       "       [-1.34022653e+00, -1.44707648e+00],\n",
       "       [-1.39706395e+00, -1.31544430e+00],\n",
       "       [-1.28338910e+00, -1.31544430e+00],\n",
       "       [-1.39706395e+00, -1.18381211e+00],\n",
       "       [-1.39706395e+00, -1.18381211e+00],\n",
       "       [-1.39706395e+00, -1.31544430e+00],\n",
       "       [-1.22655167e+00, -7.88915558e-01],\n",
       "       [-1.05603939e+00, -1.05217993e+00],\n",
       "       [-1.34022653e+00, -1.18381211e+00],\n",
       "       [-1.22655167e+00, -1.31544430e+00],\n",
       "       [-1.34022653e+00, -1.31544430e+00],\n",
       "       [-1.28338910e+00, -1.31544430e+00],\n",
       "       [-1.34022653e+00, -1.31544430e+00],\n",
       "       [ 5.35408562e-01,  2.64141916e-01],\n",
       "       [ 4.21733708e-01,  3.95774101e-01],\n",
       "       [ 6.49083415e-01,  3.95774101e-01],\n",
       "       [ 1.37546573e-01,  1.32509732e-01],\n",
       "       [ 4.78571135e-01,  3.95774101e-01],\n",
       "       [ 4.21733708e-01,  1.32509732e-01],\n",
       "       [ 5.35408562e-01,  5.27406285e-01],\n",
       "       [-2.60315415e-01, -2.62386821e-01],\n",
       "       [ 4.78571135e-01,  1.32509732e-01],\n",
       "       [ 8.07091462e-02,  2.64141916e-01],\n",
       "       [-1.46640561e-01, -2.62386821e-01],\n",
       "       [ 2.51221427e-01,  3.95774101e-01],\n",
       "       [ 1.37546573e-01, -2.62386821e-01],\n",
       "       [ 5.35408562e-01,  2.64141916e-01],\n",
       "       [-8.98031345e-02,  1.32509732e-01],\n",
       "       [ 3.64896281e-01,  2.64141916e-01],\n",
       "       [ 4.21733708e-01,  3.95774101e-01],\n",
       "       [ 1.94384000e-01, -2.62386821e-01],\n",
       "       [ 4.21733708e-01,  3.95774101e-01],\n",
       "       [ 8.07091462e-02, -1.30754636e-01],\n",
       "       [ 5.92245988e-01,  7.90670654e-01],\n",
       "       [ 1.37546573e-01,  1.32509732e-01],\n",
       "       [ 6.49083415e-01,  3.95774101e-01],\n",
       "       [ 5.35408562e-01,  8.77547895e-04],\n",
       "       [ 3.08058854e-01,  1.32509732e-01],\n",
       "       [ 3.64896281e-01,  2.64141916e-01],\n",
       "       [ 5.92245988e-01,  2.64141916e-01],\n",
       "       [ 7.05920842e-01,  6.59038469e-01],\n",
       "       [ 4.21733708e-01,  3.95774101e-01],\n",
       "       [-1.46640561e-01, -2.62386821e-01],\n",
       "       [ 2.38717193e-02, -1.30754636e-01],\n",
       "       [-3.29657076e-02, -2.62386821e-01],\n",
       "       [ 8.07091462e-02,  8.77547895e-04],\n",
       "       [ 7.62758269e-01,  5.27406285e-01],\n",
       "       [ 4.21733708e-01,  3.95774101e-01],\n",
       "       [ 4.21733708e-01,  5.27406285e-01],\n",
       "       [ 5.35408562e-01,  3.95774101e-01],\n",
       "       [ 3.64896281e-01,  1.32509732e-01],\n",
       "       [ 1.94384000e-01,  1.32509732e-01],\n",
       "       [ 1.37546573e-01,  1.32509732e-01],\n",
       "       [ 3.64896281e-01,  8.77547895e-04],\n",
       "       [ 4.78571135e-01,  2.64141916e-01],\n",
       "       [ 1.37546573e-01,  8.77547895e-04],\n",
       "       [-2.60315415e-01, -2.62386821e-01],\n",
       "       [ 2.51221427e-01,  1.32509732e-01],\n",
       "       [ 2.51221427e-01,  8.77547895e-04],\n",
       "       [ 2.51221427e-01,  1.32509732e-01],\n",
       "       [ 3.08058854e-01,  1.32509732e-01],\n",
       "       [-4.30827696e-01, -1.30754636e-01],\n",
       "       [ 1.94384000e-01,  1.32509732e-01],\n",
       "       [ 1.27429511e+00,  1.71209594e+00],\n",
       "       [ 7.62758269e-01,  9.22302838e-01],\n",
       "       [ 1.21745768e+00,  1.18556721e+00],\n",
       "       [ 1.04694540e+00,  7.90670654e-01],\n",
       "       [ 1.16062026e+00,  1.31719939e+00],\n",
       "       [ 1.61531967e+00,  1.18556721e+00],\n",
       "       [ 4.21733708e-01,  6.59038469e-01],\n",
       "       [ 1.44480739e+00,  7.90670654e-01],\n",
       "       [ 1.16062026e+00,  7.90670654e-01],\n",
       "       [ 1.33113254e+00,  1.71209594e+00],\n",
       "       [ 7.62758269e-01,  1.05393502e+00],\n",
       "       [ 8.76433123e-01,  9.22302838e-01],\n",
       "       [ 9.90107977e-01,  1.18556721e+00],\n",
       "       [ 7.05920842e-01,  1.05393502e+00],\n",
       "       [ 7.62758269e-01,  1.58046376e+00],\n",
       "       [ 8.76433123e-01,  1.44883158e+00],\n",
       "       [ 9.90107977e-01,  7.90670654e-01],\n",
       "       [ 1.67215710e+00,  1.31719939e+00],\n",
       "       [ 1.78583195e+00,  1.44883158e+00],\n",
       "       [ 7.05920842e-01,  3.95774101e-01],\n",
       "       [ 1.10378283e+00,  1.44883158e+00],\n",
       "       [ 6.49083415e-01,  1.05393502e+00],\n",
       "       [ 1.67215710e+00,  1.05393502e+00],\n",
       "       [ 6.49083415e-01,  7.90670654e-01],\n",
       "       [ 1.10378283e+00,  1.18556721e+00],\n",
       "       [ 1.27429511e+00,  7.90670654e-01],\n",
       "       [ 5.92245988e-01,  7.90670654e-01],\n",
       "       [ 6.49083415e-01,  7.90670654e-01],\n",
       "       [ 1.04694540e+00,  1.18556721e+00],\n",
       "       [ 1.16062026e+00,  5.27406285e-01],\n",
       "       [ 1.33113254e+00,  9.22302838e-01],\n",
       "       [ 1.50164482e+00,  1.05393502e+00],\n",
       "       [ 1.04694540e+00,  1.31719939e+00],\n",
       "       [ 7.62758269e-01,  3.95774101e-01],\n",
       "       [ 1.04694540e+00,  2.64141916e-01],\n",
       "       [ 1.33113254e+00,  1.44883158e+00],\n",
       "       [ 1.04694540e+00,  1.58046376e+00],\n",
       "       [ 9.90107977e-01,  7.90670654e-01],\n",
       "       [ 5.92245988e-01,  7.90670654e-01],\n",
       "       [ 9.33270550e-01,  1.18556721e+00],\n",
       "       [ 1.04694540e+00,  1.58046376e+00],\n",
       "       [ 7.62758269e-01,  1.44883158e+00],\n",
       "       [ 7.62758269e-01,  9.22302838e-01],\n",
       "       [ 1.21745768e+00,  1.44883158e+00],\n",
       "       [ 1.10378283e+00,  1.71209594e+00],\n",
       "       [ 8.19595696e-01,  1.44883158e+00],\n",
       "       [ 7.05920842e-01,  9.22302838e-01],\n",
       "       [ 8.19595696e-01,  1.05393502e+00],\n",
       "       [ 9.33270550e-01,  1.44883158e+00],\n",
       "       [ 7.62758269e-01,  7.90670654e-01]])"
      ]
     },
     "execution_count": 37,
     "metadata": {},
     "output_type": "execute_result"
    }
   ],
   "source": [
    "new_df"
   ]
  },
  {
   "cell_type": "code",
   "execution_count": 38,
   "id": "8d16e9f7",
   "metadata": {},
   "outputs": [
    {
     "data": {
      "text/html": [
       "<div>\n",
       "<style scoped>\n",
       "    .dataframe tbody tr th:only-of-type {\n",
       "        vertical-align: middle;\n",
       "    }\n",
       "\n",
       "    .dataframe tbody tr th {\n",
       "        vertical-align: top;\n",
       "    }\n",
       "\n",
       "    .dataframe thead th {\n",
       "        text-align: right;\n",
       "    }\n",
       "</style>\n",
       "<table border=\"1\" class=\"dataframe\">\n",
       "  <thead>\n",
       "    <tr style=\"text-align: right;\">\n",
       "      <th></th>\n",
       "      <th>petal length (cm)</th>\n",
       "      <th>petal width (cm)</th>\n",
       "    </tr>\n",
       "  </thead>\n",
       "  <tbody>\n",
       "    <tr>\n",
       "      <th>0</th>\n",
       "      <td>1.4</td>\n",
       "      <td>0.2</td>\n",
       "    </tr>\n",
       "    <tr>\n",
       "      <th>1</th>\n",
       "      <td>1.4</td>\n",
       "      <td>0.2</td>\n",
       "    </tr>\n",
       "    <tr>\n",
       "      <th>2</th>\n",
       "      <td>1.3</td>\n",
       "      <td>0.2</td>\n",
       "    </tr>\n",
       "    <tr>\n",
       "      <th>3</th>\n",
       "      <td>1.5</td>\n",
       "      <td>0.2</td>\n",
       "    </tr>\n",
       "    <tr>\n",
       "      <th>4</th>\n",
       "      <td>1.4</td>\n",
       "      <td>0.2</td>\n",
       "    </tr>\n",
       "    <tr>\n",
       "      <th>...</th>\n",
       "      <td>...</td>\n",
       "      <td>...</td>\n",
       "    </tr>\n",
       "    <tr>\n",
       "      <th>145</th>\n",
       "      <td>5.2</td>\n",
       "      <td>2.3</td>\n",
       "    </tr>\n",
       "    <tr>\n",
       "      <th>146</th>\n",
       "      <td>5.0</td>\n",
       "      <td>1.9</td>\n",
       "    </tr>\n",
       "    <tr>\n",
       "      <th>147</th>\n",
       "      <td>5.2</td>\n",
       "      <td>2.0</td>\n",
       "    </tr>\n",
       "    <tr>\n",
       "      <th>148</th>\n",
       "      <td>5.4</td>\n",
       "      <td>2.3</td>\n",
       "    </tr>\n",
       "    <tr>\n",
       "      <th>149</th>\n",
       "      <td>5.1</td>\n",
       "      <td>1.8</td>\n",
       "    </tr>\n",
       "  </tbody>\n",
       "</table>\n",
       "<p>150 rows × 2 columns</p>\n",
       "</div>"
      ],
      "text/plain": [
       "     petal length (cm)  petal width (cm)\n",
       "0                  1.4               0.2\n",
       "1                  1.4               0.2\n",
       "2                  1.3               0.2\n",
       "3                  1.5               0.2\n",
       "4                  1.4               0.2\n",
       "..                 ...               ...\n",
       "145                5.2               2.3\n",
       "146                5.0               1.9\n",
       "147                5.2               2.0\n",
       "148                5.4               2.3\n",
       "149                5.1               1.8\n",
       "\n",
       "[150 rows x 2 columns]"
      ]
     },
     "execution_count": 38,
     "metadata": {},
     "output_type": "execute_result"
    }
   ],
   "source": [
    "df_iris"
   ]
  },
  {
   "cell_type": "code",
   "execution_count": 39,
   "id": "71669f1e",
   "metadata": {},
   "outputs": [
    {
     "data": {
      "text/plain": [
       "-1.2316074086508404e-15"
      ]
     },
     "execution_count": 39,
     "metadata": {},
     "output_type": "execute_result"
    }
   ],
   "source": [
    "new_df.mean()"
   ]
  },
  {
   "cell_type": "code",
   "execution_count": 40,
   "id": "c31d1e26",
   "metadata": {},
   "outputs": [
    {
     "data": {
      "text/plain": [
       "1.0"
      ]
     },
     "execution_count": 40,
     "metadata": {},
     "output_type": "execute_result"
    }
   ],
   "source": [
    "new_df.std()"
   ]
  },
  {
   "cell_type": "code",
   "execution_count": 41,
   "id": "2001ba99",
   "metadata": {},
   "outputs": [],
   "source": [
    "ls = []\n",
    "for i in range(1,11):\n",
    "    km = KMeans(n_clusters=i)\n",
    "    km.fit(new_df)\n",
    "    ls.append(km.inertia_)"
   ]
  },
  {
   "cell_type": "code",
   "execution_count": 43,
   "id": "060ce99a",
   "metadata": {},
   "outputs": [
    {
     "data": {
      "image/png": "[encoded data removed]",
      "text/plain": [
       "<Figure size 500x300 with 1 Axes>"
      ]
     },
     "metadata": {},
     "output_type": "display_data"
    }
   ],
   "source": [
    "plt.figure(figsize=(5,3))\n",
    "plt.xlabel(\"Values of K\")\n",
    "plt.ylabel(\"Errors\")\n",
    "plt.plot(range(1,11), ls, \"g-*\")\n",
    "plt.show()"
   ]
  },
  {
   "cell_type": "code",
   "execution_count": null,
   "id": "000fa7fe",
   "metadata": {},
   "outputs": [],
   "source": []
  }
 ],
 "metadata": {
  "kernelspec": {
   "display_name": "Python 3 (ipykernel)",
   "language": "python",
   "name": "python3"
  },
  "language_info": {
   "codemirror_mode": {
    "name": "ipython",
    "version": 3
   },
   "file_extension": ".py",
   "mimetype": "text/x-python",
   "name": "python",
   "nbconvert_exporter": "python",
   "pygments_lexer": "ipython3",
   "version": "3.11.3"
  }
 },
 "nbformat": 4,
 "nbformat_minor": 5
}
