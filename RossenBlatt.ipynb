{
 "cells": [
  {
   "cell_type": "code",
   "execution_count": 1,
   "id": "3f52ee8b",
   "metadata": {},
   "outputs": [],
   "source": [
    "import numpy as np"
   ]
  },
  {
   "cell_type": "code",
   "execution_count": 2,
   "id": "a847cf0c",
   "metadata": {},
   "outputs": [],
   "source": [
    "class RossenblattPerceptron:\n",
    "    def __init__(self, lr=0.1, epochs=100):\n",
    "        self.learning_rate = lr\n",
    "        self.epochs = epochs\n",
    "        \n",
    "    def step_function(self, x):\n",
    "        return 0 if x < 30 else 1\n",
    "    \n",
    "    def train(self, input, labels):\n",
    "        input_size = len(input[0])\n",
    "        self.weights = np.random.rand(input_size+  1)\n",
    "        \n",
    "        for i in range(self.epochs):\n",
    "            for inp, lab in zip(input, labels):\n",
    "                pred = self.predict(inp)\n",
    "                err = lab - pred\n",
    "                self.weights[1:] += self.learning_rate * err * inp\n",
    "                self.weights[0] += self.learning_rate * err\n",
    "                \n",
    "    def predict(self, inp):\n",
    "        summ = np.dot(inp, self.weights[1:]) + self.weights[0]\n",
    "        return self.step_function(summ)\n",
    "    \n",
    "    def _get_weights(self):\n",
    "        return f\"w1- {self.weights[1]}, w2- {self.weights[2]}, bias- (self.weights[0])\"\n",
    "    \n",
    "    "
   ]
  },
  {
   "cell_type": "code",
   "execution_count": 3,
   "id": "306675e7",
   "metadata": {},
   "outputs": [],
   "source": [
    "train_data = np.array([[0,0], [0,1], [1,0], [1,1]])\n",
    "labels = np.array([1, 1, 1, 0])"
   ]
  },
  {
   "cell_type": "code",
   "execution_count": 11,
   "id": "fa619a43",
   "metadata": {},
   "outputs": [],
   "source": [
    "perceptron = RossenblattPerceptron(lr=1.5, epochs=100)\n"
   ]
  },
  {
   "cell_type": "code",
   "execution_count": 12,
   "id": "1f618ddd",
   "metadata": {},
   "outputs": [],
   "source": [
    "perceptron.train(train_data, labels)"
   ]
  },
  {
   "cell_type": "code",
   "execution_count": 13,
   "id": "7a8ea49e",
   "metadata": {},
   "outputs": [],
   "source": [
    "test_data = np.array([[0,0], [0,1], [1,0], [1,1]])"
   ]
  },
  {
   "cell_type": "code",
   "execution_count": 14,
   "id": "0d9269c7",
   "metadata": {},
   "outputs": [
    {
     "name": "stdout",
     "output_type": "stream",
     "text": [
      "Input :[0 0] Predicted : 1\n",
      "Input :[0 1] Predicted : 1\n",
      "Input :[1 0] Predicted : 1\n",
      "Input :[1 1] Predicted : 0\n"
     ]
    }
   ],
   "source": [
    "for i in test_data:\n",
    "    print(f\"Input :{i} Predicted : {perceptron.predict(i)}\")"
   ]
  },
  {
   "cell_type": "code",
   "execution_count": null,
   "id": "86b327e9",
   "metadata": {},
   "outputs": [],
   "source": []
  }
 ],
 "metadata": {
  "kernelspec": {
   "display_name": "Python 3 (ipykernel)",
   "language": "python",
   "name": "python3"
  },
  "language_info": {
   "codemirror_mode": {
    "name": "ipython",
    "version": 3
   },
   "file_extension": ".py",
   "mimetype": "text/x-python",
   "name": "python",
   "nbconvert_exporter": "python",
   "pygments_lexer": "ipython3",
   "version": "3.11.3"
  }
 },
 "nbformat": 4,
 "nbformat_minor": 5
}
