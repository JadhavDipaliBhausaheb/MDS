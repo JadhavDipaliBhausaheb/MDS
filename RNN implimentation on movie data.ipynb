{
 "cells": [
  {
   "cell_type": "code",
   "execution_count": 1,
   "id": "5632ea85",
   "metadata": {},
   "outputs": [
    {
     "name": "stdout",
     "output_type": "stream",
     "text": [
      "WARNING:tensorflow:From C:\\Users\\ARUN\\anaconda3\\Lib\\site-packages\\keras\\src\\losses.py:2976: The name tf.losses.sparse_softmax_cross_entropy is deprecated. Please use tf.compat.v1.losses.sparse_softmax_cross_entropy instead.\n",
      "\n"
     ]
    }
   ],
   "source": [
    "import numpy as np\n",
    "import tensorflow as tf\n",
    "from tensorflow.keras.preprocessing import sequence\n",
    "from tensorflow.keras.layers import Embedding, SimpleRNN , Dense\n",
    "from tensorflow.keras.models import Sequential\n",
    "from tensorflow.keras.preprocessing.text import Tokenizer"
   ]
  },
  {
   "cell_type": "code",
   "execution_count": 2,
   "id": "384d109c",
   "metadata": {},
   "outputs": [],
   "source": [
    "import warnings\n",
    "warnings.filterwarnings(\"ignore\")"
   ]
  },
  {
   "cell_type": "code",
   "execution_count": 3,
   "id": "b71a2103",
   "metadata": {},
   "outputs": [],
   "source": [
    "data =[\n",
    "\n",
    "    (\"I absolutely loved this movie!\", \"positive\"),\n",
    "\n",
    "    (\"The acting was terrible and the plot was boring\", \"negative\"),\n",
    "\n",
    "    (\"This film was masterpeace.\", \"positive\"),\n",
    "\n",
    "    (\"I couldn't stand watching it, a complete waste of time\", \"negative\"),\n",
    "\n",
    "    (\"The cinematography was stunning, a must-watch!\", \"positive\")\n",
    "\n",
    "]"
   ]
  },
  {
   "cell_type": "code",
   "execution_count": 4,
   "id": "7abd0749",
   "metadata": {},
   "outputs": [],
   "source": [
    "reviews, sentiments = zip(*data)"
   ]
  },
  {
   "cell_type": "code",
   "execution_count": 5,
   "id": "a92c6c21",
   "metadata": {},
   "outputs": [
    {
     "data": {
      "text/plain": [
       "('I absolutely loved this movie!',\n",
       " 'The acting was terrible and the plot was boring',\n",
       " 'This film was masterpeace.',\n",
       " \"I couldn't stand watching it, a complete waste of time\",\n",
       " 'The cinematography was stunning, a must-watch!')"
      ]
     },
     "execution_count": 5,
     "metadata": {},
     "output_type": "execute_result"
    }
   ],
   "source": [
    "reviews"
   ]
  },
  {
   "cell_type": "code",
   "execution_count": 6,
   "id": "99cdf575",
   "metadata": {},
   "outputs": [
    {
     "data": {
      "text/plain": [
       "('positive', 'negative', 'positive', 'negative', 'positive')"
      ]
     },
     "execution_count": 6,
     "metadata": {},
     "output_type": "execute_result"
    }
   ],
   "source": [
    "sentiments"
   ]
  },
  {
   "cell_type": "code",
   "execution_count": 7,
   "id": "32110ba9",
   "metadata": {},
   "outputs": [],
   "source": [
    "tokens = Tokenizer()\n",
    "tokens.fit_on_texts(reviews)"
   ]
  },
  {
   "cell_type": "code",
   "execution_count": 8,
   "id": "1afab58e",
   "metadata": {},
   "outputs": [
    {
     "data": {
      "text/plain": [
       "28"
      ]
     },
     "execution_count": 8,
     "metadata": {},
     "output_type": "execute_result"
    }
   ],
   "source": [
    "vocab_size = len(tokens.word_index)+1\n",
    "vocab_size"
   ]
  },
  {
   "cell_type": "code",
   "execution_count": 9,
   "id": "ee0bccba",
   "metadata": {},
   "outputs": [],
   "source": [
    "seq = tokens.texts_to_sequences(reviews)"
   ]
  },
  {
   "cell_type": "code",
   "execution_count": 10,
   "id": "1c929972",
   "metadata": {},
   "outputs": [
    {
     "data": {
      "text/plain": [
       "[[3, 6, 7, 4, 8],\n",
       " [2, 9, 1, 10, 11, 2, 12, 1, 13],\n",
       " [4, 14, 1, 15],\n",
       " [3, 16, 17, 18, 19, 5, 20, 21, 22, 23],\n",
       " [2, 24, 1, 25, 5, 26, 27]]"
      ]
     },
     "execution_count": 10,
     "metadata": {},
     "output_type": "execute_result"
    }
   ],
   "source": [
    "seq"
   ]
  },
  {
   "cell_type": "code",
   "execution_count": 11,
   "id": "073e6687",
   "metadata": {},
   "outputs": [
    {
     "data": {
      "text/plain": [
       "10"
      ]
     },
     "execution_count": 11,
     "metadata": {},
     "output_type": "execute_result"
    }
   ],
   "source": [
    "max_length = max([len(i) for i in seq])\n",
    "max_length"
   ]
  },
  {
   "cell_type": "code",
   "execution_count": 12,
   "id": "2dd355f4",
   "metadata": {},
   "outputs": [],
   "source": [
    "pad_seq = sequence.pad_sequences(seq, maxlen=max_length, padding=\"post\")"
   ]
  },
  {
   "cell_type": "code",
   "execution_count": 13,
   "id": "9fe2c83f",
   "metadata": {},
   "outputs": [
    {
     "data": {
      "text/plain": [
       "array([[ 3,  6,  7,  4,  8,  0,  0,  0,  0,  0],\n",
       "       [ 2,  9,  1, 10, 11,  2, 12,  1, 13,  0],\n",
       "       [ 4, 14,  1, 15,  0,  0,  0,  0,  0,  0],\n",
       "       [ 3, 16, 17, 18, 19,  5, 20, 21, 22, 23],\n",
       "       [ 2, 24,  1, 25,  5, 26, 27,  0,  0,  0]])"
      ]
     },
     "execution_count": 13,
     "metadata": {},
     "output_type": "execute_result"
    }
   ],
   "source": [
    "pad_seq"
   ]
  },
  {
   "cell_type": "code",
   "execution_count": 14,
   "id": "40bfd335",
   "metadata": {},
   "outputs": [
    {
     "data": {
      "text/plain": [
       "array([1, 0, 1, 0, 1])"
      ]
     },
     "execution_count": 14,
     "metadata": {},
     "output_type": "execute_result"
    }
   ],
   "source": [
    "labels = np.array([1 if i==\"positive\" else 0 for i in sentiments])\n",
    "labels"
   ]
  },
  {
   "cell_type": "code",
   "execution_count": 15,
   "id": "e299b630",
   "metadata": {},
   "outputs": [
    {
     "name": "stdout",
     "output_type": "stream",
     "text": [
      "WARNING:tensorflow:From C:\\Users\\ARUN\\anaconda3\\Lib\\site-packages\\keras\\src\\backend.py:873: The name tf.get_default_graph is deprecated. Please use tf.compat.v1.get_default_graph instead.\n",
      "\n"
     ]
    }
   ],
   "source": [
    "model = Sequential([\n",
    "    Embedding(vocab_size, 20, input_length=max_length),\n",
    "    SimpleRNN(20),\n",
    "    Dense(1, activation=\"sigmoid\")\n",
    "])"
   ]
  },
  {
   "cell_type": "code",
   "execution_count": 16,
   "id": "0778fbe9",
   "metadata": {},
   "outputs": [
    {
     "name": "stdout",
     "output_type": "stream",
     "text": [
      "WARNING:tensorflow:From C:\\Users\\ARUN\\anaconda3\\Lib\\site-packages\\keras\\src\\optimizers\\__init__.py:309: The name tf.train.Optimizer is deprecated. Please use tf.compat.v1.train.Optimizer instead.\n",
      "\n"
     ]
    }
   ],
   "source": [
    "model.compile(optimizer=\"adam\", loss=\"binary_crossentropy\", metrics=[\"accuracy\"])"
   ]
  },
  {
   "cell_type": "code",
   "execution_count": 17,
   "id": "4cd4eba0",
   "metadata": {},
   "outputs": [
    {
     "name": "stdout",
     "output_type": "stream",
     "text": [
      "Epoch 1/15\n",
      "WARNING:tensorflow:From C:\\Users\\ARUN\\anaconda3\\Lib\\site-packages\\keras\\src\\utils\\tf_utils.py:492: The name tf.ragged.RaggedTensorValue is deprecated. Please use tf.compat.v1.ragged.RaggedTensorValue instead.\n",
      "\n",
      "WARNING:tensorflow:From C:\\Users\\ARUN\\anaconda3\\Lib\\site-packages\\keras\\src\\engine\\base_layer_utils.py:384: The name tf.executing_eagerly_outside_functions is deprecated. Please use tf.compat.v1.executing_eagerly_outside_functions instead.\n",
      "\n",
      "1/1 [==============================] - 4s 4s/step - loss: 0.7159 - accuracy: 0.4000\n",
      "Epoch 2/15\n",
      "1/1 [==============================] - 0s 19ms/step - loss: 0.6949 - accuracy: 0.4000\n",
      "Epoch 3/15\n",
      "1/1 [==============================] - 0s 15ms/step - loss: 0.6748 - accuracy: 0.6000\n",
      "Epoch 4/15\n",
      "1/1 [==============================] - 0s 21ms/step - loss: 0.6554 - accuracy: 0.8000\n",
      "Epoch 5/15\n",
      "1/1 [==============================] - 0s 16ms/step - loss: 0.6367 - accuracy: 1.0000\n",
      "Epoch 6/15\n",
      "1/1 [==============================] - 0s 16ms/step - loss: 0.6183 - accuracy: 1.0000\n",
      "Epoch 7/15\n",
      "1/1 [==============================] - 0s 21ms/step - loss: 0.6004 - accuracy: 1.0000\n",
      "Epoch 8/15\n",
      "1/1 [==============================] - 0s 18ms/step - loss: 0.5828 - accuracy: 1.0000\n",
      "Epoch 9/15\n",
      "1/1 [==============================] - 0s 17ms/step - loss: 0.5653 - accuracy: 1.0000\n",
      "Epoch 10/15\n",
      "1/1 [==============================] - 0s 17ms/step - loss: 0.5480 - accuracy: 1.0000\n",
      "Epoch 11/15\n",
      "1/1 [==============================] - 0s 19ms/step - loss: 0.5308 - accuracy: 1.0000\n",
      "Epoch 12/15\n",
      "1/1 [==============================] - 0s 17ms/step - loss: 0.5135 - accuracy: 1.0000\n",
      "Epoch 13/15\n",
      "1/1 [==============================] - 0s 13ms/step - loss: 0.4961 - accuracy: 1.0000\n",
      "Epoch 14/15\n",
      "1/1 [==============================] - 0s 16ms/step - loss: 0.4787 - accuracy: 1.0000\n",
      "Epoch 15/15\n",
      "1/1 [==============================] - 0s 17ms/step - loss: 0.4610 - accuracy: 1.0000\n"
     ]
    },
    {
     "data": {
      "text/plain": [
       "<keras.src.callbacks.History at 0x27f4269c090>"
      ]
     },
     "execution_count": 17,
     "metadata": {},
     "output_type": "execute_result"
    }
   ],
   "source": [
    "model.fit(pad_seq, labels, epochs=15, verbose=1)"
   ]
  },
  {
   "cell_type": "code",
   "execution_count": 18,
   "id": "0799666d",
   "metadata": {},
   "outputs": [],
   "source": [
    "new_sent = \"I was blown away by the incredible performance and gripping storyline\""
   ]
  },
  {
   "cell_type": "code",
   "execution_count": 19,
   "id": "4b1d05fc",
   "metadata": {},
   "outputs": [],
   "source": [
    "new_seq = tokens.texts_to_sequences([new_sent])"
   ]
  },
  {
   "cell_type": "code",
   "execution_count": 20,
   "id": "df0cc917",
   "metadata": {},
   "outputs": [],
   "source": [
    "new_pad_seq = sequence.pad_sequences(new_seq, maxlen=max_length, padding=\"post\")"
   ]
  },
  {
   "cell_type": "code",
   "execution_count": 21,
   "id": "23680d3e",
   "metadata": {},
   "outputs": [
    {
     "data": {
      "text/plain": [
       "array([[ 3,  1,  2, 11,  0,  0,  0,  0,  0,  0]])"
      ]
     },
     "execution_count": 21,
     "metadata": {},
     "output_type": "execute_result"
    }
   ],
   "source": [
    "new_pad_seq"
   ]
  },
  {
   "cell_type": "code",
   "execution_count": 22,
   "id": "1e258410",
   "metadata": {},
   "outputs": [
    {
     "name": "stdout",
     "output_type": "stream",
     "text": [
      "1/1 [==============================] - 1s 501ms/step\n"
     ]
    }
   ],
   "source": [
    "pred = model.predict(new_pad_seq)"
   ]
  },
  {
   "cell_type": "code",
   "execution_count": 23,
   "id": "1e5fb534",
   "metadata": {},
   "outputs": [],
   "source": [
    "sentiment = \"Positive\" if pred >= 0.5 else \"negative\" "
   ]
  },
  {
   "cell_type": "code",
   "execution_count": 24,
   "id": "14f2a20c",
   "metadata": {},
   "outputs": [
    {
     "data": {
      "text/plain": [
       "'Positive'"
      ]
     },
     "execution_count": 24,
     "metadata": {},
     "output_type": "execute_result"
    }
   ],
   "source": [
    "sentiment"
   ]
  },
  {
   "cell_type": "code",
   "execution_count": null,
   "id": "0a89ad9e",
   "metadata": {},
   "outputs": [],
   "source": []
  }
 ],
 "metadata": {
  "kernelspec": {
   "display_name": "Python 3 (ipykernel)",
   "language": "python",
   "name": "python3"
  },
  "language_info": {
   "codemirror_mode": {
    "name": "ipython",
    "version": 3
   },
   "file_extension": ".py",
   "mimetype": "text/x-python",
   "name": "python",
   "nbconvert_exporter": "python",
   "pygments_lexer": "ipython3",
   "version": "3.11.3"
  }
 },
 "nbformat": 4,
 "nbformat_minor": 5
}
