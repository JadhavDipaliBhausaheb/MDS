{
 "cells": [
  {
   "cell_type": "code",
   "execution_count": 1,
   "id": "465a85b2",
   "metadata": {},
   "outputs": [],
   "source": [
    "import numpy as np\n",
    "import pandas as pd\n",
    "import matplotlib.pyplot as plt"
   ]
  },
  {
   "cell_type": "code",
   "execution_count": 3,
   "id": "53ce2368",
   "metadata": {},
   "outputs": [
    {
     "data": {
      "text/plain": [
       "array([1, 2, 5, 1, 1, 2, 7, 5, 2, 4, 7, 2, 4, 1, 1, 7, 4, 7, 3, 2])"
      ]
     },
     "execution_count": 3,
     "metadata": {},
     "output_type": "execute_result"
    }
   ],
   "source": [
    "data = np.random.randint(1,8,20)\n",
    "data"
   ]
  },
  {
   "cell_type": "code",
   "execution_count": 4,
   "id": "2730d8c9",
   "metadata": {},
   "outputs": [],
   "source": [
    "designation = list(map(lambda x: 0 if x<= 4 else 1,data))"
   ]
  },
  {
   "cell_type": "code",
   "execution_count": 6,
   "id": "214a2f19",
   "metadata": {},
   "outputs": [
    {
     "data": {
      "text/plain": [
       "[0, 0, 1, 0, 0, 0, 1, 1, 0, 0, 1, 0, 0, 0, 0, 1, 0, 1, 0, 0]"
      ]
     },
     "execution_count": 6,
     "metadata": {},
     "output_type": "execute_result"
    }
   ],
   "source": [
    "designation"
   ]
  },
  {
   "cell_type": "code",
   "execution_count": 7,
   "id": "31e2b179",
   "metadata": {},
   "outputs": [],
   "source": [
    "df = pd.DataFrame(data.reshape(-1,1),columns=[\"Exp\"])\n",
    "df[\"Dsg\"] = designation"
   ]
  },
  {
   "cell_type": "code",
   "execution_count": 9,
   "id": "e9687f2b",
   "metadata": {},
   "outputs": [
    {
     "data": {
      "text/html": [
       "<div>\n",
       "<style scoped>\n",
       "    .dataframe tbody tr th:only-of-type {\n",
       "        vertical-align: middle;\n",
       "    }\n",
       "\n",
       "    .dataframe tbody tr th {\n",
       "        vertical-align: top;\n",
       "    }\n",
       "\n",
       "    .dataframe thead th {\n",
       "        text-align: right;\n",
       "    }\n",
       "</style>\n",
       "<table border=\"1\" class=\"dataframe\">\n",
       "  <thead>\n",
       "    <tr style=\"text-align: right;\">\n",
       "      <th></th>\n",
       "      <th>Exp</th>\n",
       "      <th>Dsg</th>\n",
       "    </tr>\n",
       "  </thead>\n",
       "  <tbody>\n",
       "    <tr>\n",
       "      <th>0</th>\n",
       "      <td>1</td>\n",
       "      <td>0</td>\n",
       "    </tr>\n",
       "    <tr>\n",
       "      <th>1</th>\n",
       "      <td>2</td>\n",
       "      <td>0</td>\n",
       "    </tr>\n",
       "    <tr>\n",
       "      <th>2</th>\n",
       "      <td>5</td>\n",
       "      <td>1</td>\n",
       "    </tr>\n",
       "    <tr>\n",
       "      <th>3</th>\n",
       "      <td>1</td>\n",
       "      <td>0</td>\n",
       "    </tr>\n",
       "    <tr>\n",
       "      <th>4</th>\n",
       "      <td>1</td>\n",
       "      <td>0</td>\n",
       "    </tr>\n",
       "  </tbody>\n",
       "</table>\n",
       "</div>"
      ],
      "text/plain": [
       "   Exp  Dsg\n",
       "0    1    0\n",
       "1    2    0\n",
       "2    5    1\n",
       "3    1    0\n",
       "4    1    0"
      ]
     },
     "execution_count": 9,
     "metadata": {},
     "output_type": "execute_result"
    }
   ],
   "source": [
    "df.head()    # 0 - Associate, 1 - Manager"
   ]
  },
  {
   "cell_type": "code",
   "execution_count": 10,
   "id": "8b8b5628",
   "metadata": {},
   "outputs": [
    {
     "data": {
      "image/png": "[encoded data removed]",
      "text/plain": [
       "<Figure size 400x300 with 1 Axes>"
      ]
     },
     "metadata": {},
     "output_type": "display_data"
    }
   ],
   "source": [
    "plt.figure(figsize=(4,3))\n",
    "plt.scatter(df[\"Exp\"], df[\"Dsg\"])\n",
    "plt.show()"
   ]
  },
  {
   "cell_type": "code",
   "execution_count": 11,
   "id": "9d3b61f2",
   "metadata": {},
   "outputs": [
    {
     "data": {
      "text/plain": [
       "array([2.5])"
      ]
     },
     "execution_count": 11,
     "metadata": {},
     "output_type": "execute_result"
    }
   ],
   "source": [
    "new_exp = np.array([2.5])\n",
    "new_exp"
   ]
  },
  {
   "cell_type": "code",
   "execution_count": 12,
   "id": "d418b551",
   "metadata": {},
   "outputs": [],
   "source": [
    "k = 3"
   ]
  },
  {
   "cell_type": "code",
   "execution_count": 13,
   "id": "72b3c09f",
   "metadata": {},
   "outputs": [
    {
     "data": {
      "text/plain": [
       "0     1.5\n",
       "1     0.5\n",
       "2     2.5\n",
       "3     1.5\n",
       "4     1.5\n",
       "5     0.5\n",
       "6     4.5\n",
       "7     2.5\n",
       "8     0.5\n",
       "9     1.5\n",
       "10    4.5\n",
       "11    0.5\n",
       "12    1.5\n",
       "13    1.5\n",
       "14    1.5\n",
       "15    4.5\n",
       "16    1.5\n",
       "17    4.5\n",
       "18    0.5\n",
       "19    0.5\n",
       "Name: Exp, dtype: float64"
      ]
     },
     "execution_count": 13,
     "metadata": {},
     "output_type": "execute_result"
    }
   ],
   "source": [
    "distances = np.sqrt((new_exp - df[\"Exp\"])**2)\n",
    "distances"
   ]
  },
  {
   "cell_type": "code",
   "execution_count": 14,
   "id": "e4748571",
   "metadata": {},
   "outputs": [
    {
     "data": {
      "text/plain": [
       "[0.5,\n",
       " 0.5,\n",
       " 0.5,\n",
       " 0.5,\n",
       " 0.5,\n",
       " 0.5,\n",
       " 1.5,\n",
       " 1.5,\n",
       " 1.5,\n",
       " 1.5,\n",
       " 1.5,\n",
       " 1.5,\n",
       " 1.5,\n",
       " 1.5,\n",
       " 2.5,\n",
       " 2.5,\n",
       " 4.5,\n",
       " 4.5,\n",
       " 4.5,\n",
       " 4.5]"
      ]
     },
     "execution_count": 14,
     "metadata": {},
     "output_type": "execute_result"
    }
   ],
   "source": [
    "sorted(distances)"
   ]
  },
  {
   "cell_type": "code",
   "execution_count": 15,
   "id": "40143501",
   "metadata": {},
   "outputs": [],
   "source": [
    "new_df = df.copy()\n",
    "new_df[\"dist\"] = distances"
   ]
  },
  {
   "cell_type": "code",
   "execution_count": 16,
   "id": "29eac487",
   "metadata": {},
   "outputs": [
    {
     "data": {
      "text/html": [
       "<div>\n",
       "<style scoped>\n",
       "    .dataframe tbody tr th:only-of-type {\n",
       "        vertical-align: middle;\n",
       "    }\n",
       "\n",
       "    .dataframe tbody tr th {\n",
       "        vertical-align: top;\n",
       "    }\n",
       "\n",
       "    .dataframe thead th {\n",
       "        text-align: right;\n",
       "    }\n",
       "</style>\n",
       "<table border=\"1\" class=\"dataframe\">\n",
       "  <thead>\n",
       "    <tr style=\"text-align: right;\">\n",
       "      <th></th>\n",
       "      <th>Exp</th>\n",
       "      <th>Dsg</th>\n",
       "      <th>dist</th>\n",
       "    </tr>\n",
       "  </thead>\n",
       "  <tbody>\n",
       "    <tr>\n",
       "      <th>0</th>\n",
       "      <td>1</td>\n",
       "      <td>0</td>\n",
       "      <td>1.5</td>\n",
       "    </tr>\n",
       "    <tr>\n",
       "      <th>1</th>\n",
       "      <td>2</td>\n",
       "      <td>0</td>\n",
       "      <td>0.5</td>\n",
       "    </tr>\n",
       "    <tr>\n",
       "      <th>2</th>\n",
       "      <td>5</td>\n",
       "      <td>1</td>\n",
       "      <td>2.5</td>\n",
       "    </tr>\n",
       "    <tr>\n",
       "      <th>3</th>\n",
       "      <td>1</td>\n",
       "      <td>0</td>\n",
       "      <td>1.5</td>\n",
       "    </tr>\n",
       "    <tr>\n",
       "      <th>4</th>\n",
       "      <td>1</td>\n",
       "      <td>0</td>\n",
       "      <td>1.5</td>\n",
       "    </tr>\n",
       "  </tbody>\n",
       "</table>\n",
       "</div>"
      ],
      "text/plain": [
       "   Exp  Dsg  dist\n",
       "0    1    0   1.5\n",
       "1    2    0   0.5\n",
       "2    5    1   2.5\n",
       "3    1    0   1.5\n",
       "4    1    0   1.5"
      ]
     },
     "execution_count": 16,
     "metadata": {},
     "output_type": "execute_result"
    }
   ],
   "source": [
    "new_df.head()"
   ]
  },
  {
   "cell_type": "code",
   "execution_count": 17,
   "id": "c1333243",
   "metadata": {},
   "outputs": [
    {
     "data": {
      "text/html": [
       "<div>\n",
       "<style scoped>\n",
       "    .dataframe tbody tr th:only-of-type {\n",
       "        vertical-align: middle;\n",
       "    }\n",
       "\n",
       "    .dataframe tbody tr th {\n",
       "        vertical-align: top;\n",
       "    }\n",
       "\n",
       "    .dataframe thead th {\n",
       "        text-align: right;\n",
       "    }\n",
       "</style>\n",
       "<table border=\"1\" class=\"dataframe\">\n",
       "  <thead>\n",
       "    <tr style=\"text-align: right;\">\n",
       "      <th></th>\n",
       "      <th>Exp</th>\n",
       "      <th>Dsg</th>\n",
       "      <th>dist</th>\n",
       "    </tr>\n",
       "  </thead>\n",
       "  <tbody>\n",
       "    <tr>\n",
       "      <th>19</th>\n",
       "      <td>2</td>\n",
       "      <td>0</td>\n",
       "      <td>0.5</td>\n",
       "    </tr>\n",
       "    <tr>\n",
       "      <th>1</th>\n",
       "      <td>2</td>\n",
       "      <td>0</td>\n",
       "      <td>0.5</td>\n",
       "    </tr>\n",
       "    <tr>\n",
       "      <th>5</th>\n",
       "      <td>2</td>\n",
       "      <td>0</td>\n",
       "      <td>0.5</td>\n",
       "    </tr>\n",
       "  </tbody>\n",
       "</table>\n",
       "</div>"
      ],
      "text/plain": [
       "    Exp  Dsg  dist\n",
       "19    2    0   0.5\n",
       "1     2    0   0.5\n",
       "5     2    0   0.5"
      ]
     },
     "execution_count": 17,
     "metadata": {},
     "output_type": "execute_result"
    }
   ],
   "source": [
    "new_df.sort_values(\"dist\").head(k)"
   ]
  },
  {
   "cell_type": "code",
   "execution_count": 18,
   "id": "fee1b7d7",
   "metadata": {},
   "outputs": [],
   "source": [
    "from sklearn.datasets import make_blobs"
   ]
  },
  {
   "cell_type": "code",
   "execution_count": 19,
   "id": "a6878207",
   "metadata": {},
   "outputs": [],
   "source": [
    "data = make_blobs(n_samples=100, n_features=2, centers=[[2,3], [5,6]])"
   ]
  },
  {
   "cell_type": "code",
   "execution_count": 20,
   "id": "ef9df8d7",
   "metadata": {},
   "outputs": [
    {
     "data": {
      "text/html": [
       "<div>\n",
       "<style scoped>\n",
       "    .dataframe tbody tr th:only-of-type {\n",
       "        vertical-align: middle;\n",
       "    }\n",
       "\n",
       "    .dataframe tbody tr th {\n",
       "        vertical-align: top;\n",
       "    }\n",
       "\n",
       "    .dataframe thead th {\n",
       "        text-align: right;\n",
       "    }\n",
       "</style>\n",
       "<table border=\"1\" class=\"dataframe\">\n",
       "  <thead>\n",
       "    <tr style=\"text-align: right;\">\n",
       "      <th></th>\n",
       "      <th>Col_1</th>\n",
       "      <th>Col_2</th>\n",
       "      <th>Target</th>\n",
       "    </tr>\n",
       "  </thead>\n",
       "  <tbody>\n",
       "    <tr>\n",
       "      <th>0</th>\n",
       "      <td>4.821739</td>\n",
       "      <td>6.501182</td>\n",
       "      <td>1</td>\n",
       "    </tr>\n",
       "    <tr>\n",
       "      <th>1</th>\n",
       "      <td>4.080215</td>\n",
       "      <td>5.757250</td>\n",
       "      <td>1</td>\n",
       "    </tr>\n",
       "    <tr>\n",
       "      <th>2</th>\n",
       "      <td>6.347285</td>\n",
       "      <td>5.148646</td>\n",
       "      <td>1</td>\n",
       "    </tr>\n",
       "    <tr>\n",
       "      <th>3</th>\n",
       "      <td>1.290476</td>\n",
       "      <td>2.702622</td>\n",
       "      <td>0</td>\n",
       "    </tr>\n",
       "    <tr>\n",
       "      <th>4</th>\n",
       "      <td>8.046151</td>\n",
       "      <td>7.088278</td>\n",
       "      <td>1</td>\n",
       "    </tr>\n",
       "  </tbody>\n",
       "</table>\n",
       "</div>"
      ],
      "text/plain": [
       "      Col_1     Col_2  Target\n",
       "0  4.821739  6.501182       1\n",
       "1  4.080215  5.757250       1\n",
       "2  6.347285  5.148646       1\n",
       "3  1.290476  2.702622       0\n",
       "4  8.046151  7.088278       1"
      ]
     },
     "execution_count": 20,
     "metadata": {},
     "output_type": "execute_result"
    }
   ],
   "source": [
    "df = pd.DataFrame(data[0], columns=[\"Col_1\", \"Col_2\"])\n",
    "df[\"Target\"] = data[1]\n",
    "df.head()"
   ]
  },
  {
   "cell_type": "code",
   "execution_count": 21,
   "id": "3cd028e0",
   "metadata": {},
   "outputs": [
    {
     "data": {
      "text/plain": [
       "array([4.653342, 3.365422])"
      ]
     },
     "execution_count": 21,
     "metadata": {},
     "output_type": "execute_result"
    }
   ],
   "source": [
    "new_pt = np.array([4.653342, 3.365422])\n",
    "new_pt"
   ]
  },
  {
   "cell_type": "code",
   "execution_count": 22,
   "id": "02496ed1",
   "metadata": {},
   "outputs": [],
   "source": [
    "X = data[0]\n",
    "X\n",
    "y = data[1]"
   ]
  },
  {
   "cell_type": "code",
   "execution_count": 23,
   "id": "7d54606e",
   "metadata": {},
   "outputs": [],
   "source": [
    "dist = [np.sqrt(((new_pt[0] - X[i][0])**2) + ((new_pt[1] - X[i][1])**2)) for i in range(len(X))]"
   ]
  },
  {
   "cell_type": "code",
   "execution_count": 24,
   "id": "4bed84cf",
   "metadata": {},
   "outputs": [
    {
     "data": {
      "text/plain": [
       "[3.140278863166343,\n",
       " 2.4595359415062115,\n",
       " 2.4595386719739816,\n",
       " 3.4275602542758468,\n",
       " 5.036944932325925,\n",
       " 0.6892342745533313,\n",
       " 2.1901792879581192,\n",
       " 1.1983584008295893,\n",
       " 1.1656762171434814,\n",
       " 0.4898554436260642,\n",
       " 2.5710588150648577,\n",
       " 3.111604567293531,\n",
       " 3.3159670034919113,\n",
       " 2.9022091980538898,\n",
       " 3.6606922884990674,\n",
       " 2.904055761409911,\n",
       " 3.092727471667595,\n",
       " 4.217876958210608,\n",
       " 3.6458384627457114,\n",
       " 1.5985078585897057,\n",
       " 3.4746289609883094,\n",
       " 3.9118353032050828,\n",
       " 2.046519939620887,\n",
       " 2.971780856650312,\n",
       " 3.5577228502092493,\n",
       " 4.881416075340248,\n",
       " 2.4462155647120754,\n",
       " 4.084744160446424,\n",
       " 4.155707057604653,\n",
       " 3.857152332981795,\n",
       " 1.984764620062977,\n",
       " 5.120838373027797,\n",
       " 2.7684391699493154,\n",
       " 4.3774213781795295,\n",
       " 3.771923554316784,\n",
       " 3.664124849359374,\n",
       " 4.550240229625344,\n",
       " 3.1791219259526815,\n",
       " 3.669041729705963,\n",
       " 3.834908182349285,\n",
       " 5.424366731193999,\n",
       " 2.3011985236274977,\n",
       " 2.828487867589507,\n",
       " 3.707720352425029,\n",
       " 2.9943172206881488,\n",
       " 2.5969144241401727,\n",
       " 2.180881832340547,\n",
       " 1.6504698805734062,\n",
       " 0.7262730858690286,\n",
       " 2.268803342228955,\n",
       " 2.910826163575876,\n",
       " 3.0493705096669586,\n",
       " 1.9823855946104312,\n",
       " 3.9184380379949677,\n",
       " 3.171988223260059,\n",
       " 1.8591830347273364,\n",
       " 3.479309401163269,\n",
       " 3.678831611335534,\n",
       " 1.852567558361689,\n",
       " 1.3128736272262274,\n",
       " 1.4337937869350679,\n",
       " 2.6999399905505244,\n",
       " 2.2029105912966234,\n",
       " 1.455682857203126,\n",
       " 2.554578671451664,\n",
       " 0.3426436914767197,\n",
       " 3.1461109431008616,\n",
       " 2.302158340890252,\n",
       " 2.092064611937785,\n",
       " 1.7838296742373425,\n",
       " 2.661030273744085,\n",
       " 1.5694564271216878,\n",
       " 2.0228928054397124,\n",
       " 2.4196475134972797,\n",
       " 2.770500543413748,\n",
       " 2.4362970370195285,\n",
       " 2.230733378878099,\n",
       " 4.280035008911752,\n",
       " 3.057615297037281,\n",
       " 2.952564789151236,\n",
       " 2.145671957141735,\n",
       " 5.0302355727592705,\n",
       " 4.247199570004486,\n",
       " 4.187683250662502,\n",
       " 2.5339013179100482,\n",
       " 2.9517566697369424,\n",
       " 2.3863432574562933,\n",
       " 4.816174990162531,\n",
       " 3.774567452803174,\n",
       " 2.1464679087152585,\n",
       " 1.3690096993758256,\n",
       " 2.994725489348598,\n",
       " 2.16908766715945,\n",
       " 1.6304360478896345,\n",
       " 3.2842981055812936,\n",
       " 3.6314185072119463,\n",
       " 1.858866387928504,\n",
       " 3.997683958604793,\n",
       " 3.141238760128563,\n",
       " 2.6302111511328095]"
      ]
     },
     "execution_count": 24,
     "metadata": {},
     "output_type": "execute_result"
    }
   ],
   "source": [
    "dist"
   ]
  },
  {
   "cell_type": "code",
   "execution_count": 25,
   "id": "6b940644",
   "metadata": {},
   "outputs": [],
   "source": [
    "df[\"dist\"] = dist"
   ]
  },
  {
   "cell_type": "code",
   "execution_count": 26,
   "id": "df182bc1",
   "metadata": {},
   "outputs": [
    {
     "data": {
      "text/html": [
       "<div>\n",
       "<style scoped>\n",
       "    .dataframe tbody tr th:only-of-type {\n",
       "        vertical-align: middle;\n",
       "    }\n",
       "\n",
       "    .dataframe tbody tr th {\n",
       "        vertical-align: top;\n",
       "    }\n",
       "\n",
       "    .dataframe thead th {\n",
       "        text-align: right;\n",
       "    }\n",
       "</style>\n",
       "<table border=\"1\" class=\"dataframe\">\n",
       "  <thead>\n",
       "    <tr style=\"text-align: right;\">\n",
       "      <th></th>\n",
       "      <th>Col_1</th>\n",
       "      <th>Col_2</th>\n",
       "      <th>Target</th>\n",
       "      <th>dist</th>\n",
       "    </tr>\n",
       "  </thead>\n",
       "  <tbody>\n",
       "    <tr>\n",
       "      <th>0</th>\n",
       "      <td>4.821739</td>\n",
       "      <td>6.501182</td>\n",
       "      <td>1</td>\n",
       "      <td>3.140279</td>\n",
       "    </tr>\n",
       "    <tr>\n",
       "      <th>1</th>\n",
       "      <td>4.080215</td>\n",
       "      <td>5.757250</td>\n",
       "      <td>1</td>\n",
       "      <td>2.459536</td>\n",
       "    </tr>\n",
       "    <tr>\n",
       "      <th>2</th>\n",
       "      <td>6.347285</td>\n",
       "      <td>5.148646</td>\n",
       "      <td>1</td>\n",
       "      <td>2.459539</td>\n",
       "    </tr>\n",
       "    <tr>\n",
       "      <th>3</th>\n",
       "      <td>1.290476</td>\n",
       "      <td>2.702622</td>\n",
       "      <td>0</td>\n",
       "      <td>3.427560</td>\n",
       "    </tr>\n",
       "    <tr>\n",
       "      <th>4</th>\n",
       "      <td>8.046151</td>\n",
       "      <td>7.088278</td>\n",
       "      <td>1</td>\n",
       "      <td>5.036945</td>\n",
       "    </tr>\n",
       "  </tbody>\n",
       "</table>\n",
       "</div>"
      ],
      "text/plain": [
       "      Col_1     Col_2  Target      dist\n",
       "0  4.821739  6.501182       1  3.140279\n",
       "1  4.080215  5.757250       1  2.459536\n",
       "2  6.347285  5.148646       1  2.459539\n",
       "3  1.290476  2.702622       0  3.427560\n",
       "4  8.046151  7.088278       1  5.036945"
      ]
     },
     "execution_count": 26,
     "metadata": {},
     "output_type": "execute_result"
    }
   ],
   "source": [
    "df.head()"
   ]
  },
  {
   "cell_type": "code",
   "execution_count": 27,
   "id": "97402105",
   "metadata": {},
   "outputs": [
    {
     "data": {
      "text/html": [
       "<div>\n",
       "<style scoped>\n",
       "    .dataframe tbody tr th:only-of-type {\n",
       "        vertical-align: middle;\n",
       "    }\n",
       "\n",
       "    .dataframe tbody tr th {\n",
       "        vertical-align: top;\n",
       "    }\n",
       "\n",
       "    .dataframe thead th {\n",
       "        text-align: right;\n",
       "    }\n",
       "</style>\n",
       "<table border=\"1\" class=\"dataframe\">\n",
       "  <thead>\n",
       "    <tr style=\"text-align: right;\">\n",
       "      <th></th>\n",
       "      <th>Col_1</th>\n",
       "      <th>Col_2</th>\n",
       "      <th>Target</th>\n",
       "      <th>dist</th>\n",
       "    </tr>\n",
       "  </thead>\n",
       "  <tbody>\n",
       "    <tr>\n",
       "      <th>65</th>\n",
       "      <td>4.355407</td>\n",
       "      <td>3.196190</td>\n",
       "      <td>0</td>\n",
       "      <td>0.342644</td>\n",
       "    </tr>\n",
       "    <tr>\n",
       "      <th>9</th>\n",
       "      <td>4.488906</td>\n",
       "      <td>2.903990</td>\n",
       "      <td>0</td>\n",
       "      <td>0.489855</td>\n",
       "    </tr>\n",
       "    <tr>\n",
       "      <th>5</th>\n",
       "      <td>4.109657</td>\n",
       "      <td>2.941806</td>\n",
       "      <td>0</td>\n",
       "      <td>0.689234</td>\n",
       "    </tr>\n",
       "    <tr>\n",
       "      <th>48</th>\n",
       "      <td>4.116353</td>\n",
       "      <td>3.854417</td>\n",
       "      <td>1</td>\n",
       "      <td>0.726273</td>\n",
       "    </tr>\n",
       "    <tr>\n",
       "      <th>8</th>\n",
       "      <td>3.628727</td>\n",
       "      <td>3.921269</td>\n",
       "      <td>0</td>\n",
       "      <td>1.165676</td>\n",
       "    </tr>\n",
       "  </tbody>\n",
       "</table>\n",
       "</div>"
      ],
      "text/plain": [
       "       Col_1     Col_2  Target      dist\n",
       "65  4.355407  3.196190       0  0.342644\n",
       "9   4.488906  2.903990       0  0.489855\n",
       "5   4.109657  2.941806       0  0.689234\n",
       "48  4.116353  3.854417       1  0.726273\n",
       "8   3.628727  3.921269       0  1.165676"
      ]
     },
     "execution_count": 27,
     "metadata": {},
     "output_type": "execute_result"
    }
   ],
   "source": [
    "df.sort_values(\"dist\").head(5)"
   ]
  },
  {
   "cell_type": "code",
   "execution_count": 28,
   "id": "6544ca28",
   "metadata": {},
   "outputs": [],
   "source": [
    "from sklearn.neighbors import KNeighborsClassifier"
   ]
  },
  {
   "cell_type": "code",
   "execution_count": 29,
   "id": "8884cdaf",
   "metadata": {},
   "outputs": [],
   "source": [
    "model = KNeighborsClassifier(n_neighbors=5)"
   ]
  },
  {
   "cell_type": "code",
   "execution_count": 30,
   "id": "3d467d0b",
   "metadata": {},
   "outputs": [
    {
     "data": {
      "text/html": [
       "<style>#sk-container-id-1 {color: black;}#sk-container-id-1 pre{padding: 0;}#sk-container-id-1 div.sk-toggleable {background-color: white;}#sk-container-id-1 label.sk-toggleable__label {cursor: pointer;display: block;width: 100%;margin-bottom: 0;padding: 0.3em;box-sizing: border-box;text-align: center;}#sk-container-id-1 label.sk-toggleable__label-arrow:before {content: \"▸\";float: left;margin-right: 0.25em;color: #696969;}#sk-container-id-1 label.sk-toggleable__label-arrow:hover:before {color: black;}#sk-container-id-1 div.sk-estimator:hover label.sk-toggleable__label-arrow:before {color: black;}#sk-container-id-1 div.sk-toggleable__content {max-height: 0;max-width: 0;overflow: hidden;text-align: left;background-color: #f0f8ff;}#sk-container-id-1 div.sk-toggleable__content pre {margin: 0.2em;color: black;border-radius: 0.25em;background-color: #f0f8ff;}#sk-container-id-1 input.sk-toggleable__control:checked~div.sk-toggleable__content {max-height: 200px;max-width: 100%;overflow: auto;}#sk-container-id-1 input.sk-toggleable__control:checked~label.sk-toggleable__label-arrow:before {content: \"▾\";}#sk-container-id-1 div.sk-estimator input.sk-toggleable__control:checked~label.sk-toggleable__label {background-color: #d4ebff;}#sk-container-id-1 div.sk-label input.sk-toggleable__control:checked~label.sk-toggleable__label {background-color: #d4ebff;}#sk-container-id-1 input.sk-hidden--visually {border: 0;clip: rect(1px 1px 1px 1px);clip: rect(1px, 1px, 1px, 1px);height: 1px;margin: -1px;overflow: hidden;padding: 0;position: absolute;width: 1px;}#sk-container-id-1 div.sk-estimator {font-family: monospace;background-color: #f0f8ff;border: 1px dotted black;border-radius: 0.25em;box-sizing: border-box;margin-bottom: 0.5em;}#sk-container-id-1 div.sk-estimator:hover {background-color: #d4ebff;}#sk-container-id-1 div.sk-parallel-item::after {content: \"\";width: 100%;border-bottom: 1px solid gray;flex-grow: 1;}#sk-container-id-1 div.sk-label:hover label.sk-toggleable__label {background-color: #d4ebff;}#sk-container-id-1 div.sk-serial::before {content: \"\";position: absolute;border-left: 1px solid gray;box-sizing: border-box;top: 0;bottom: 0;left: 50%;z-index: 0;}#sk-container-id-1 div.sk-serial {display: flex;flex-direction: column;align-items: center;background-color: white;padding-right: 0.2em;padding-left: 0.2em;position: relative;}#sk-container-id-1 div.sk-item {position: relative;z-index: 1;}#sk-container-id-1 div.sk-parallel {display: flex;align-items: stretch;justify-content: center;background-color: white;position: relative;}#sk-container-id-1 div.sk-item::before, #sk-container-id-1 div.sk-parallel-item::before {content: \"\";position: absolute;border-left: 1px solid gray;box-sizing: border-box;top: 0;bottom: 0;left: 50%;z-index: -1;}#sk-container-id-1 div.sk-parallel-item {display: flex;flex-direction: column;z-index: 1;position: relative;background-color: white;}#sk-container-id-1 div.sk-parallel-item:first-child::after {align-self: flex-end;width: 50%;}#sk-container-id-1 div.sk-parallel-item:last-child::after {align-self: flex-start;width: 50%;}#sk-container-id-1 div.sk-parallel-item:only-child::after {width: 0;}#sk-container-id-1 div.sk-dashed-wrapped {border: 1px dashed gray;margin: 0 0.4em 0.5em 0.4em;box-sizing: border-box;padding-bottom: 0.4em;background-color: white;}#sk-container-id-1 div.sk-label label {font-family: monospace;font-weight: bold;display: inline-block;line-height: 1.2em;}#sk-container-id-1 div.sk-label-container {text-align: center;}#sk-container-id-1 div.sk-container {/* jupyter's `normalize.less` sets `[hidden] { display: none; }` but bootstrap.min.css set `[hidden] { display: none !important; }` so we also need the `!important` here to be able to override the default hidden behavior on the sphinx rendered scikit-learn.org. See: https://github.com/scikit-learn/scikit-learn/issues/21755 */display: inline-block !important;position: relative;}#sk-container-id-1 div.sk-text-repr-fallback {display: none;}</style><div id=\"sk-container-id-1\" class=\"sk-top-container\"><div class=\"sk-text-repr-fallback\"><pre>KNeighborsClassifier()</pre><b>In a Jupyter environment, please rerun this cell to show the HTML representation or trust the notebook. <br />On GitHub, the HTML representation is unable to render, please try loading this page with nbviewer.org.</b></div><div class=\"sk-container\" hidden><div class=\"sk-item\"><div class=\"sk-estimator sk-toggleable\"><input class=\"sk-toggleable__control sk-hidden--visually\" id=\"sk-estimator-id-1\" type=\"checkbox\" checked><label for=\"sk-estimator-id-1\" class=\"sk-toggleable__label sk-toggleable__label-arrow\">KNeighborsClassifier</label><div class=\"sk-toggleable__content\"><pre>KNeighborsClassifier()</pre></div></div></div></div></div>"
      ],
      "text/plain": [
       "KNeighborsClassifier()"
      ]
     },
     "execution_count": 30,
     "metadata": {},
     "output_type": "execute_result"
    }
   ],
   "source": [
    "model.fit(X, y)"
   ]
  },
  {
   "cell_type": "code",
   "execution_count": 31,
   "id": "01e9d09b",
   "metadata": {},
   "outputs": [
    {
     "data": {
      "text/plain": [
       "array([0])"
      ]
     },
     "execution_count": 31,
     "metadata": {},
     "output_type": "execute_result"
    }
   ],
   "source": [
    "model.predict([new_pt])"
   ]
  },
  {
   "cell_type": "code",
   "execution_count": null,
   "id": "029a8a8b",
   "metadata": {},
   "outputs": [],
   "source": []
  }
 ],
 "metadata": {
  "kernelspec": {
   "display_name": "Python 3 (ipykernel)",
   "language": "python",
   "name": "python3"
  },
  "language_info": {
   "codemirror_mode": {
    "name": "ipython",
    "version": 3
   },
   "file_extension": ".py",
   "mimetype": "text/x-python",
   "name": "python",
   "nbconvert_exporter": "python",
   "pygments_lexer": "ipython3",
   "version": "3.11.3"
  }
 },
 "nbformat": 4,
 "nbformat_minor": 5
}
