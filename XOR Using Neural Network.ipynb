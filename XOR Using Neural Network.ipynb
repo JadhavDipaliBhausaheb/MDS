{
 "cells": [
  {
   "cell_type": "code",
   "execution_count": 1,
   "id": "a773e69b",
   "metadata": {},
   "outputs": [],
   "source": [
    "import numpy as np"
   ]
  },
  {
   "cell_type": "code",
   "execution_count": 9,
   "id": "7802c9f8",
   "metadata": {},
   "outputs": [
    {
     "name": "stdout",
     "output_type": "stream",
     "text": [
      "output_after_training:\n",
      "[[0.]\n",
      " [1.]\n",
      " [1.]\n",
      " [0.]]\n"
     ]
    }
   ],
   "source": [
    "def sigmoid(x):\n",
    "    return 1 / (1 + np.exp(-x))\n",
    "\n",
    "def sigmoid_derivative(x):\n",
    "    return x * (1 - x)\n",
    "\n",
    "# Input dataset\n",
    "X = np.array([[0,0],[0,1],[1,0],[1,1]])\n",
    "\n",
    "#Expected output dataset for XOR gate\n",
    "y = np.array([[0],[1],[1],[0]])\n",
    "\n",
    "# send random numbers to make calculations deterministic\n",
    "np.random.seed(1)\n",
    "\n",
    "#initialize weights randomly with mean 0\n",
    "input_neurons = 2\n",
    "hidden_neurons = 4\n",
    "output_neurons = 1\n",
    "\n",
    "# weights from input to hidden layer\n",
    "weights_input_hidden = 2* np.random.random((input_neurons, hidden_neurons)) -1\n",
    "weights_hidden_output = 2 * np.random.random((hidden_neurons, output_neurons)) -1\n",
    "\n",
    "epochs = 10000\n",
    "learning_rate = 0.1\n",
    "\n",
    "for epoch in range(epochs):\n",
    "    hidden_layer_input = np.dot(X, weights_input_hidden)\n",
    "    hidden_layer_output = sigmoid(hidden_layer_input)\n",
    "    \n",
    "    output_layer_input = np.dot(hidden_layer_output, weights_hidden_output )\n",
    "    output = sigmoid(output_layer_input)\n",
    "    \n",
    "    output_error = y - output\n",
    "    \n",
    "    d_output = output_error * sigmoid_derivative(output) \n",
    "    output_layer_delta = learning_rate * np.dot(hidden_layer_output.T, d_output)\n",
    "    \n",
    "    hidden_error = np.dot(d_output, weights_hidden_output.T)\n",
    "    d_hidden = hidden_error * sigmoid_derivative(hidden_layer_output)\n",
    "    hidden_layer_delta = learning_rate * np.dot(X.T, d_hidden)\n",
    "    \n",
    "    weights_hidden_output += output_layer_delta\n",
    "    weights_input_hidden += hidden_layer_delta\n",
    "    \n",
    "    #testing the network\n",
    "    \n",
    "hidden_layer = sigmoid(np.dot(X, weights_input_hidden))\n",
    "output = sigmoid(np.dot(hidden_layer, weights_hidden_output))\n",
    "\n",
    "print(\"output_after_training:\")\n",
    "print(np.round(output))\n"
   ]
  },
  {
   "cell_type": "code",
   "execution_count": null,
   "id": "98c1ecf5",
   "metadata": {},
   "outputs": [],
   "source": []
  }
 ],
 "metadata": {
  "kernelspec": {
   "display_name": "Python 3 (ipykernel)",
   "language": "python",
   "name": "python3"
  },
  "language_info": {
   "codemirror_mode": {
    "name": "ipython",
    "version": 3
   },
   "file_extension": ".py",
   "mimetype": "text/x-python",
   "name": "python",
   "nbconvert_exporter": "python",
   "pygments_lexer": "ipython3",
   "version": "3.11.3"
  }
 },
 "nbformat": 4,
 "nbformat_minor": 5
}
